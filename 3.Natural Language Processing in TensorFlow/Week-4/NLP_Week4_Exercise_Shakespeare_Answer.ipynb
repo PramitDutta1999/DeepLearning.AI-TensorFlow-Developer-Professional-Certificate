{
  "nbformat": 4,
  "nbformat_minor": 0,
  "metadata": {
    "accelerator": "GPU",
    "colab": {
      "name": "NLP_Week4_Exercise_Shakespeare_Answer.ipynb",
      "provenance": [],
      "toc_visible": true
    },
    "kernelspec": {
      "display_name": "Python 3",
      "name": "python3"
    }
  },
  "cells": [
    {
      "cell_type": "code",
      "metadata": {
        "id": "zX4Kg8DUTKWO",
        "colab_type": "code",
        "colab": {}
      },
      "source": [
        "#@title Licensed under the Apache License, Version 2.0 (the \"License\");\n",
        "# you may not use this file except in compliance with the License.\n",
        "# You may obtain a copy of the License at\n",
        "#\n",
        "# https://www.apache.org/licenses/LICENSE-2.0\n",
        "#\n",
        "# Unless required by applicable law or agreed to in writing, software\n",
        "# distributed under the License is distributed on an \"AS IS\" BASIS,\n",
        "# WITHOUT WARRANTIES OR CONDITIONS OF ANY KIND, either express or implied.\n",
        "# See the License for the specific language governing permissions and\n",
        "# limitations under the License."
      ],
      "execution_count": 1,
      "outputs": []
    },
    {
      "cell_type": "code",
      "metadata": {
        "colab_type": "code",
        "id": "BOwsuGQQY9OL",
        "colab": {}
      },
      "source": [
        "from tensorflow.keras.preprocessing.sequence import pad_sequences\n",
        "from tensorflow.keras.layers import Embedding, LSTM, Dense, Dropout, Bidirectional\n",
        "from tensorflow.keras.preprocessing.text import Tokenizer\n",
        "from tensorflow.keras.models import Sequential\n",
        "from tensorflow.keras.optimizers import Adam\n",
        "from tensorflow.keras import regularizers\n",
        "import tensorflow.keras.utils as ku \n",
        "import numpy as np "
      ],
      "execution_count": 2,
      "outputs": []
    },
    {
      "cell_type": "code",
      "metadata": {
        "colab_type": "code",
        "id": "PRnDnCW-Z7qv",
        "colab": {
          "base_uri": "https://localhost:8080/",
          "height": 204
        },
        "outputId": "4c70c04a-a7ae-43f5-8d7d-9aeab264e98f"
      },
      "source": [
        "tokenizer = Tokenizer()\n",
        "!wget --no-check-certificate \\\n",
        "    https://storage.googleapis.com/laurencemoroney-blog.appspot.com/sonnets.txt \\\n",
        "    -O /tmp/sonnets.txt\n",
        "data = open('/tmp/sonnets.txt').read()\n",
        "\n",
        "corpus = data.lower().split(\"\\n\")\n",
        "\n",
        "\n",
        "tokenizer.fit_on_texts(corpus)\n",
        "total_words = len(tokenizer.word_index) + 1\n",
        "\n",
        "# create input sequences using list of tokens\n",
        "input_sequences = []\n",
        "for line in corpus:\n",
        "\ttoken_list = tokenizer.texts_to_sequences([line])[0]\n",
        "\tfor i in range(1, len(token_list)):\n",
        "\t\tn_gram_sequence = token_list[:i+1]\n",
        "\t\tinput_sequences.append(n_gram_sequence)\n",
        "\n",
        "\n",
        "# pad sequences \n",
        "max_sequence_len = max([len(x) for x in input_sequences])\n",
        "input_sequences = np.array(pad_sequences(input_sequences, maxlen=max_sequence_len, padding='pre'))\n",
        "\n",
        "# create predictors and label\n",
        "predictors, label = input_sequences[:,:-1],input_sequences[:,-1]\n",
        "\n",
        "label = ku.to_categorical(label, num_classes=total_words)"
      ],
      "execution_count": 3,
      "outputs": [
        {
          "output_type": "stream",
          "text": [
            "--2020-09-01 08:26:59--  https://storage.googleapis.com/laurencemoroney-blog.appspot.com/sonnets.txt\n",
            "Resolving storage.googleapis.com (storage.googleapis.com)... 74.125.203.128, 74.125.204.128, 64.233.189.128, ...\n",
            "Connecting to storage.googleapis.com (storage.googleapis.com)|74.125.203.128|:443... connected.\n",
            "HTTP request sent, awaiting response... 200 OK\n",
            "Length: 93578 (91K) [text/plain]\n",
            "Saving to: ‘/tmp/sonnets.txt’\n",
            "\n",
            "/tmp/sonnets.txt    100%[===================>]  91.38K  --.-KB/s    in 0.001s  \n",
            "\n",
            "2020-09-01 08:27:00 (74.2 MB/s) - ‘/tmp/sonnets.txt’ saved [93578/93578]\n",
            "\n"
          ],
          "name": "stdout"
        }
      ]
    },
    {
      "cell_type": "code",
      "metadata": {
        "colab_type": "code",
        "id": "w9vH8Y59ajYL",
        "colab": {
          "base_uri": "https://localhost:8080/",
          "height": 374
        },
        "outputId": "354aafa1-21be-4f1f-b946-e76e66a1334e"
      },
      "source": [
        "model = Sequential()\n",
        "model.add(Embedding(total_words, 100, input_length=max_sequence_len-1))\n",
        "model.add(Bidirectional(LSTM(150, return_sequences = True)))\n",
        "model.add(Dropout(0.2))\n",
        "model.add(LSTM(100))\n",
        "model.add(Dense(total_words/2, activation='relu', kernel_regularizer=regularizers.l2(0.01)))\n",
        "model.add(Dense(total_words, activation='softmax'))\n",
        "model.compile(loss='categorical_crossentropy', optimizer='adam', metrics=['accuracy'])\n",
        "print(model.summary())\n"
      ],
      "execution_count": 4,
      "outputs": [
        {
          "output_type": "stream",
          "text": [
            "Model: \"sequential\"\n",
            "_________________________________________________________________\n",
            "Layer (type)                 Output Shape              Param #   \n",
            "=================================================================\n",
            "embedding (Embedding)        (None, 10, 100)           321100    \n",
            "_________________________________________________________________\n",
            "bidirectional (Bidirectional (None, 10, 300)           301200    \n",
            "_________________________________________________________________\n",
            "dropout (Dropout)            (None, 10, 300)           0         \n",
            "_________________________________________________________________\n",
            "lstm_1 (LSTM)                (None, 100)               160400    \n",
            "_________________________________________________________________\n",
            "dense (Dense)                (None, 1605)              162105    \n",
            "_________________________________________________________________\n",
            "dense_1 (Dense)              (None, 3211)              5156866   \n",
            "=================================================================\n",
            "Total params: 6,101,671\n",
            "Trainable params: 6,101,671\n",
            "Non-trainable params: 0\n",
            "_________________________________________________________________\n",
            "None\n"
          ],
          "name": "stdout"
        }
      ]
    },
    {
      "cell_type": "code",
      "metadata": {
        "colab_type": "code",
        "id": "AIg2f1HBxqof",
        "colab": {
          "base_uri": "https://localhost:8080/",
          "height": 1000
        },
        "outputId": "31282f85-2bb2-43fd-8a21-98c45f63ea57"
      },
      "source": [
        " history = model.fit(predictors, label, epochs=100, verbose=1)"
      ],
      "execution_count": 5,
      "outputs": [
        {
          "output_type": "stream",
          "text": [
            "Epoch 1/100\n",
            "484/484 [==============================] - 13s 27ms/step - loss: 6.9002 - accuracy: 0.0195\n",
            "Epoch 2/100\n",
            "484/484 [==============================] - 13s 27ms/step - loss: 6.5017 - accuracy: 0.0218\n",
            "Epoch 3/100\n",
            "484/484 [==============================] - 13s 26ms/step - loss: 6.3813 - accuracy: 0.0266\n",
            "Epoch 4/100\n",
            "484/484 [==============================] - 13s 26ms/step - loss: 6.2605 - accuracy: 0.0301\n",
            "Epoch 5/100\n",
            "484/484 [==============================] - 13s 26ms/step - loss: 6.1735 - accuracy: 0.0360\n",
            "Epoch 6/100\n",
            "484/484 [==============================] - 13s 26ms/step - loss: 6.0975 - accuracy: 0.0383\n",
            "Epoch 7/100\n",
            "484/484 [==============================] - 13s 26ms/step - loss: 6.0202 - accuracy: 0.0409\n",
            "Epoch 8/100\n",
            "484/484 [==============================] - 13s 26ms/step - loss: 5.9272 - accuracy: 0.0463\n",
            "Epoch 9/100\n",
            "484/484 [==============================] - 13s 26ms/step - loss: 5.8226 - accuracy: 0.0545\n",
            "Epoch 10/100\n",
            "484/484 [==============================] - 13s 26ms/step - loss: 5.7137 - accuracy: 0.0582\n",
            "Epoch 11/100\n",
            "484/484 [==============================] - 13s 26ms/step - loss: 5.6102 - accuracy: 0.0664\n",
            "Epoch 12/100\n",
            "484/484 [==============================] - 13s 26ms/step - loss: 5.5082 - accuracy: 0.0705\n",
            "Epoch 13/100\n",
            "484/484 [==============================] - 13s 26ms/step - loss: 5.4107 - accuracy: 0.0774\n",
            "Epoch 14/100\n",
            "484/484 [==============================] - 12s 26ms/step - loss: 5.3116 - accuracy: 0.0836\n",
            "Epoch 15/100\n",
            "484/484 [==============================] - 12s 26ms/step - loss: 5.2165 - accuracy: 0.0904\n",
            "Epoch 16/100\n",
            "484/484 [==============================] - 12s 26ms/step - loss: 5.1221 - accuracy: 0.0979\n",
            "Epoch 17/100\n",
            "484/484 [==============================] - 13s 26ms/step - loss: 5.0222 - accuracy: 0.1051\n",
            "Epoch 18/100\n",
            "484/484 [==============================] - 13s 26ms/step - loss: 4.9320 - accuracy: 0.1125\n",
            "Epoch 19/100\n",
            "484/484 [==============================] - 13s 26ms/step - loss: 4.8362 - accuracy: 0.1200\n",
            "Epoch 20/100\n",
            "484/484 [==============================] - 13s 26ms/step - loss: 4.7363 - accuracy: 0.1312\n",
            "Epoch 21/100\n",
            "484/484 [==============================] - 13s 26ms/step - loss: 4.6395 - accuracy: 0.1408\n",
            "Epoch 22/100\n",
            "484/484 [==============================] - 13s 26ms/step - loss: 4.5364 - accuracy: 0.1470\n",
            "Epoch 23/100\n",
            "484/484 [==============================] - 12s 26ms/step - loss: 4.4389 - accuracy: 0.1638\n",
            "Epoch 24/100\n",
            "484/484 [==============================] - 13s 27ms/step - loss: 4.3391 - accuracy: 0.1760\n",
            "Epoch 25/100\n",
            "484/484 [==============================] - 13s 26ms/step - loss: 4.2423 - accuracy: 0.1851\n",
            "Epoch 26/100\n",
            "484/484 [==============================] - 13s 26ms/step - loss: 4.1410 - accuracy: 0.1990\n",
            "Epoch 27/100\n",
            "484/484 [==============================] - 13s 26ms/step - loss: 4.0447 - accuracy: 0.2088\n",
            "Epoch 28/100\n",
            "484/484 [==============================] - 12s 26ms/step - loss: 3.9396 - accuracy: 0.2229\n",
            "Epoch 29/100\n",
            "484/484 [==============================] - 13s 26ms/step - loss: 3.8442 - accuracy: 0.2425\n",
            "Epoch 30/100\n",
            "484/484 [==============================] - 13s 26ms/step - loss: 3.7540 - accuracy: 0.2569\n",
            "Epoch 31/100\n",
            "484/484 [==============================] - 13s 26ms/step - loss: 3.6506 - accuracy: 0.2766\n",
            "Epoch 32/100\n",
            "484/484 [==============================] - 13s 26ms/step - loss: 3.5661 - accuracy: 0.2912\n",
            "Epoch 33/100\n",
            "484/484 [==============================] - 12s 26ms/step - loss: 3.4725 - accuracy: 0.3099\n",
            "Epoch 34/100\n",
            "484/484 [==============================] - 12s 26ms/step - loss: 3.3879 - accuracy: 0.3295\n",
            "Epoch 35/100\n",
            "484/484 [==============================] - 13s 26ms/step - loss: 3.3010 - accuracy: 0.3519\n",
            "Epoch 36/100\n",
            "484/484 [==============================] - 12s 26ms/step - loss: 3.2170 - accuracy: 0.3639\n",
            "Epoch 37/100\n",
            "484/484 [==============================] - 12s 26ms/step - loss: 3.1486 - accuracy: 0.3834\n",
            "Epoch 38/100\n",
            "484/484 [==============================] - 13s 26ms/step - loss: 3.0716 - accuracy: 0.4003\n",
            "Epoch 39/100\n",
            "484/484 [==============================] - 13s 26ms/step - loss: 2.9917 - accuracy: 0.4167\n",
            "Epoch 40/100\n",
            "484/484 [==============================] - 13s 26ms/step - loss: 2.9246 - accuracy: 0.4335\n",
            "Epoch 41/100\n",
            "484/484 [==============================] - 13s 26ms/step - loss: 2.8552 - accuracy: 0.4475\n",
            "Epoch 42/100\n",
            "484/484 [==============================] - 13s 26ms/step - loss: 2.7984 - accuracy: 0.4613\n",
            "Epoch 43/100\n",
            "484/484 [==============================] - 12s 26ms/step - loss: 2.7266 - accuracy: 0.4776\n",
            "Epoch 44/100\n",
            "484/484 [==============================] - 13s 26ms/step - loss: 2.6728 - accuracy: 0.4885\n",
            "Epoch 45/100\n",
            "484/484 [==============================] - 12s 26ms/step - loss: 2.6221 - accuracy: 0.5041\n",
            "Epoch 46/100\n",
            "484/484 [==============================] - 13s 26ms/step - loss: 2.5471 - accuracy: 0.5193\n",
            "Epoch 47/100\n",
            "484/484 [==============================] - 13s 26ms/step - loss: 2.5057 - accuracy: 0.5285\n",
            "Epoch 48/100\n",
            "484/484 [==============================] - 13s 26ms/step - loss: 2.4529 - accuracy: 0.5368\n",
            "Epoch 49/100\n",
            "484/484 [==============================] - 13s 27ms/step - loss: 2.3953 - accuracy: 0.5524\n",
            "Epoch 50/100\n",
            "484/484 [==============================] - 13s 26ms/step - loss: 2.3490 - accuracy: 0.5605\n",
            "Epoch 51/100\n",
            "484/484 [==============================] - 13s 26ms/step - loss: 2.3012 - accuracy: 0.5720\n",
            "Epoch 52/100\n",
            "484/484 [==============================] - 12s 26ms/step - loss: 2.2578 - accuracy: 0.5843\n",
            "Epoch 53/100\n",
            "484/484 [==============================] - 13s 26ms/step - loss: 2.2267 - accuracy: 0.5924\n",
            "Epoch 54/100\n",
            "484/484 [==============================] - 13s 26ms/step - loss: 2.1856 - accuracy: 0.5936\n",
            "Epoch 55/100\n",
            "484/484 [==============================] - 13s 26ms/step - loss: 2.1343 - accuracy: 0.6054\n",
            "Epoch 56/100\n",
            "484/484 [==============================] - 13s 26ms/step - loss: 2.0924 - accuracy: 0.6205\n",
            "Epoch 57/100\n",
            "484/484 [==============================] - 13s 26ms/step - loss: 2.0650 - accuracy: 0.6238\n",
            "Epoch 58/100\n",
            "484/484 [==============================] - 12s 26ms/step - loss: 2.0322 - accuracy: 0.6320\n",
            "Epoch 59/100\n",
            "484/484 [==============================] - 13s 26ms/step - loss: 1.9808 - accuracy: 0.6400\n",
            "Epoch 60/100\n",
            "484/484 [==============================] - 13s 26ms/step - loss: 1.9612 - accuracy: 0.6425\n",
            "Epoch 61/100\n",
            "484/484 [==============================] - 13s 26ms/step - loss: 1.9209 - accuracy: 0.6516\n",
            "Epoch 62/100\n",
            "484/484 [==============================] - 13s 26ms/step - loss: 1.8992 - accuracy: 0.6554\n",
            "Epoch 63/100\n",
            "484/484 [==============================] - 13s 26ms/step - loss: 1.8626 - accuracy: 0.6656\n",
            "Epoch 64/100\n",
            "484/484 [==============================] - 13s 26ms/step - loss: 1.8424 - accuracy: 0.6676\n",
            "Epoch 65/100\n",
            "484/484 [==============================] - 13s 26ms/step - loss: 1.8080 - accuracy: 0.6780\n",
            "Epoch 66/100\n",
            "484/484 [==============================] - 13s 26ms/step - loss: 1.7662 - accuracy: 0.6821\n",
            "Epoch 67/100\n",
            "484/484 [==============================] - 13s 26ms/step - loss: 1.7525 - accuracy: 0.6886\n",
            "Epoch 68/100\n",
            "484/484 [==============================] - 13s 26ms/step - loss: 1.7148 - accuracy: 0.6935\n",
            "Epoch 69/100\n",
            "484/484 [==============================] - 13s 26ms/step - loss: 1.6850 - accuracy: 0.6997\n",
            "Epoch 70/100\n",
            "484/484 [==============================] - 13s 26ms/step - loss: 1.6606 - accuracy: 0.7061\n",
            "Epoch 71/100\n",
            "484/484 [==============================] - 12s 26ms/step - loss: 1.6448 - accuracy: 0.7077\n",
            "Epoch 72/100\n",
            "484/484 [==============================] - 12s 26ms/step - loss: 1.6316 - accuracy: 0.7108\n",
            "Epoch 73/100\n",
            "484/484 [==============================] - 13s 27ms/step - loss: 1.5973 - accuracy: 0.7174\n",
            "Epoch 74/100\n",
            "484/484 [==============================] - 13s 26ms/step - loss: 1.5857 - accuracy: 0.7202\n",
            "Epoch 75/100\n",
            "484/484 [==============================] - 13s 26ms/step - loss: 1.5568 - accuracy: 0.7264\n",
            "Epoch 76/100\n",
            "484/484 [==============================] - 13s 26ms/step - loss: 1.5425 - accuracy: 0.7269\n",
            "Epoch 77/100\n",
            "484/484 [==============================] - 13s 26ms/step - loss: 1.5119 - accuracy: 0.7351\n",
            "Epoch 78/100\n",
            "484/484 [==============================] - 13s 26ms/step - loss: 1.4975 - accuracy: 0.7381\n",
            "Epoch 79/100\n",
            "484/484 [==============================] - 13s 26ms/step - loss: 1.4780 - accuracy: 0.7412\n",
            "Epoch 80/100\n",
            "484/484 [==============================] - 13s 26ms/step - loss: 1.4748 - accuracy: 0.7414\n",
            "Epoch 81/100\n",
            "484/484 [==============================] - 13s 26ms/step - loss: 1.4487 - accuracy: 0.7456\n",
            "Epoch 82/100\n",
            "484/484 [==============================] - 13s 26ms/step - loss: 1.4230 - accuracy: 0.7564\n",
            "Epoch 83/100\n",
            "484/484 [==============================] - 13s 26ms/step - loss: 1.4132 - accuracy: 0.7537\n",
            "Epoch 84/100\n",
            "484/484 [==============================] - 13s 26ms/step - loss: 1.3993 - accuracy: 0.7571\n",
            "Epoch 85/100\n",
            "484/484 [==============================] - 13s 26ms/step - loss: 1.3771 - accuracy: 0.7610\n",
            "Epoch 86/100\n",
            "484/484 [==============================] - 13s 26ms/step - loss: 1.3673 - accuracy: 0.7611\n",
            "Epoch 87/100\n",
            "484/484 [==============================] - 13s 26ms/step - loss: 1.3483 - accuracy: 0.7656\n",
            "Epoch 88/100\n",
            "484/484 [==============================] - 13s 26ms/step - loss: 1.3418 - accuracy: 0.7654\n",
            "Epoch 89/100\n",
            "484/484 [==============================] - 13s 26ms/step - loss: 1.3260 - accuracy: 0.7692\n",
            "Epoch 90/100\n",
            "484/484 [==============================] - 13s 26ms/step - loss: 1.3051 - accuracy: 0.7764\n",
            "Epoch 91/100\n",
            "484/484 [==============================] - 13s 26ms/step - loss: 1.2983 - accuracy: 0.7741\n",
            "Epoch 92/100\n",
            "484/484 [==============================] - 13s 26ms/step - loss: 1.2888 - accuracy: 0.7745\n",
            "Epoch 93/100\n",
            "484/484 [==============================] - 13s 26ms/step - loss: 1.2866 - accuracy: 0.7762\n",
            "Epoch 94/100\n",
            "484/484 [==============================] - 13s 26ms/step - loss: 1.2539 - accuracy: 0.7821\n",
            "Epoch 95/100\n",
            "484/484 [==============================] - 13s 26ms/step - loss: 1.2433 - accuracy: 0.7828\n",
            "Epoch 96/100\n",
            "484/484 [==============================] - 13s 26ms/step - loss: 1.2305 - accuracy: 0.7866\n",
            "Epoch 97/100\n",
            "484/484 [==============================] - 13s 26ms/step - loss: 1.2246 - accuracy: 0.7866\n",
            "Epoch 98/100\n",
            "484/484 [==============================] - 13s 27ms/step - loss: 1.2198 - accuracy: 0.7886\n",
            "Epoch 99/100\n",
            "484/484 [==============================] - 13s 26ms/step - loss: 1.2107 - accuracy: 0.7884\n",
            "Epoch 100/100\n",
            "484/484 [==============================] - 13s 26ms/step - loss: 1.2013 - accuracy: 0.7875\n"
          ],
          "name": "stdout"
        }
      ]
    },
    {
      "cell_type": "code",
      "metadata": {
        "colab_type": "code",
        "id": "1fXTEO3GJ282",
        "colab": {
          "base_uri": "https://localhost:8080/",
          "height": 545
        },
        "outputId": "c32911df-2be0-4149-dc07-376d3e9ae0a2"
      },
      "source": [
        "import matplotlib.pyplot as plt\n",
        "acc = history.history['accuracy']\n",
        "loss = history.history['loss']\n",
        "\n",
        "epochs = range(len(acc))\n",
        "\n",
        "plt.plot(epochs, acc, 'b', label='Training accuracy')\n",
        "plt.title('Training accuracy')\n",
        "\n",
        "plt.figure()\n",
        "\n",
        "plt.plot(epochs, loss, 'b', label='Training Loss')\n",
        "plt.title('Training loss')\n",
        "plt.legend()\n",
        "\n",
        "plt.show()"
      ],
      "execution_count": 6,
      "outputs": [
        {
          "output_type": "display_data",
          "data": {
            "image/png": "[encoded data removed]",
            "text/plain": [
              "<Figure size 432x288 with 1 Axes>"
            ]
          },
          "metadata": {
            "tags": [],
            "needs_background": "light"
          }
        },
        {
          "output_type": "display_data",
          "data": {
            "image/png": "[encoded data removed]",
            "text/plain": [
              "<Figure size 432x288 with 1 Axes>"
            ]
          },
          "metadata": {
            "tags": [],
            "needs_background": "light"
          }
        }
      ]
    },
    {
      "cell_type": "code",
      "metadata": {
        "colab_type": "code",
        "id": "6Vc6PHgxa6Hm",
        "colab": {
          "base_uri": "https://localhost:8080/",
          "height": 105
        },
        "outputId": "8c1c1991-58fb-40d1-8fb4-03c0e6725dcc"
      },
      "source": [
        "seed_text = \"Help me Obi Wan Kenobi, you're my only hope\"\n",
        "next_words = 100\n",
        "  \n",
        "for _ in range(next_words):\n",
        "\ttoken_list = tokenizer.texts_to_sequences([seed_text])[0]\n",
        "\ttoken_list = pad_sequences([token_list], maxlen=max_sequence_len-1, padding='pre')\n",
        "\tpredicted = model.predict_classes(token_list, verbose=0)\n",
        "\toutput_word = \"\"\n",
        "\tfor word, index in tokenizer.word_index.items():\n",
        "\t\tif index == predicted:\n",
        "\t\t\toutput_word = word\n",
        "\t\t\tbreak\n",
        "\tseed_text += \" \" + output_word\n",
        "print(seed_text)"
      ],
      "execution_count": 7,
      "outputs": [
        {
          "output_type": "stream",
          "text": [
            "WARNING:tensorflow:From <ipython-input-7-622d307fa19a>:7: Sequential.predict_classes (from tensorflow.python.keras.engine.sequential) is deprecated and will be removed after 2021-01-01.\n",
            "Instructions for updating:\n",
            "Please use instead:* `np.argmax(model.predict(x), axis=-1)`,   if your model does multi-class classification   (e.g. if it uses a `softmax` last-layer activation).* `(model.predict(x) > 0.5).astype(\"int32\")`,   if your model does binary classification   (e.g. if it uses a `sigmoid` last-layer activation).\n",
            "Help me Obi Wan Kenobi, you're my only hope should hold thee to thee call swear behold bright be done truly thee so such false then truly thine thought know thee i not buried day so free as lively deceived mad so cured mine eyes grow bright bright prove crime lend come mad seem light quite spent doth store still purging prove hate bring be grow pent from thee for you hate still dearer fault affords bear love's fire rehearse compiled grow bearing day away a date fix'd in heaven's air affords quite clear pride doth mad his king morn smoke sweetness day mine ill quite spent prove seem\n"
          ],
          "name": "stdout"
        }
      ]
    }
  ]
}