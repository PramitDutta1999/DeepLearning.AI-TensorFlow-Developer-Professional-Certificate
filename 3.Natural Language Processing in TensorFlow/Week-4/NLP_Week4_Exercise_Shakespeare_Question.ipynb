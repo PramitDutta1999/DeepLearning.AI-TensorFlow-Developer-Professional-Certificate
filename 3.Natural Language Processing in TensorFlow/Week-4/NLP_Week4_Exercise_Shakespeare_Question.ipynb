{
  "nbformat": 4,
  "nbformat_minor": 0,
  "metadata": {
    "accelerator": "GPU",
    "colab": {
      "name": "NLP_Week4_Exercise_Shakespeare_Question.ipynb",
      "provenance": [],
      "toc_visible": true
    },
    "kernelspec": {
      "display_name": "Python 3",
      "name": "python3"
    }
  },
  "cells": [
    {
      "cell_type": "code",
      "metadata": {
        "id": "zX4Kg8DUTKWO",
        "colab_type": "code",
        "colab": {}
      },
      "source": [
        "#@title Licensed under the Apache License, Version 2.0 (the \"License\");\n",
        "# you may not use this file except in compliance with the License.\n",
        "# You may obtain a copy of the License at\n",
        "#\n",
        "# https://www.apache.org/licenses/LICENSE-2.0\n",
        "#\n",
        "# Unless required by applicable law or agreed to in writing, software\n",
        "# distributed under the License is distributed on an \"AS IS\" BASIS,\n",
        "# WITHOUT WARRANTIES OR CONDITIONS OF ANY KIND, either express or implied.\n",
        "# See the License for the specific language governing permissions and\n",
        "# limitations under the License."
      ],
      "execution_count": 1,
      "outputs": []
    },
    {
      "cell_type": "code",
      "metadata": {
        "colab_type": "code",
        "id": "BOwsuGQQY9OL",
        "colab": {}
      },
      "source": [
        "from tensorflow.keras.preprocessing.sequence import pad_sequences\n",
        "from tensorflow.keras.layers import Embedding, LSTM, Dense, Dropout, Bidirectional\n",
        "from tensorflow.keras.preprocessing.text import Tokenizer\n",
        "from tensorflow.keras.models import Sequential\n",
        "from tensorflow.keras.optimizers import Adam\n",
        "from tensorflow.keras import regularizers\n",
        "import tensorflow.keras.utils as ku \n",
        "import numpy as np "
      ],
      "execution_count": 2,
      "outputs": []
    },
    {
      "cell_type": "code",
      "metadata": {
        "colab_type": "code",
        "id": "PRnDnCW-Z7qv",
        "colab": {
          "base_uri": "https://localhost:8080/",
          "height": 204
        },
        "outputId": "329b7956-8838-443a-ac26-411dcdf65047"
      },
      "source": [
        "tokenizer = Tokenizer()\n",
        "!wget --no-check-certificate \\\n",
        "    https://storage.googleapis.com/laurencemoroney-blog.appspot.com/sonnets.txt \\\n",
        "    -O /tmp/sonnets.txt\n",
        "data = open('/tmp/sonnets.txt').read()\n",
        "\n",
        "corpus = data.lower().split(\"\\n\")\n",
        "\n",
        "\n",
        "tokenizer.fit_on_texts(corpus)\n",
        "total_words = len(tokenizer.word_index) + 1\n",
        "\n",
        "# create input sequences using list of tokens\n",
        "input_sequences = []\n",
        "for line in corpus:\n",
        "\ttoken_list = tokenizer.texts_to_sequences([line])[0]\n",
        "\tfor i in range(1, len(token_list)):\n",
        "\t\tn_gram_sequence = token_list[:i+1]\n",
        "\t\tinput_sequences.append(n_gram_sequence)\n",
        "\n",
        "\n",
        "# pad sequences \n",
        "max_sequence_len = max([len(x) for x in input_sequences])\n",
        "input_sequences = np.array(pad_sequences(input_sequences, maxlen=max_sequence_len, padding='pre'))\n",
        "\n",
        "# create predictors and label\n",
        "predictors, label = input_sequences[:,:-1],input_sequences[:,-1]\n",
        "\n",
        "label = ku.to_categorical(label, num_classes=total_words)"
      ],
      "execution_count": 3,
      "outputs": [
        {
          "output_type": "stream",
          "text": [
            "--2020-09-01 08:25:32--  https://storage.googleapis.com/laurencemoroney-blog.appspot.com/sonnets.txt\n",
            "Resolving storage.googleapis.com (storage.googleapis.com)... 108.177.97.128, 108.177.125.128, 74.125.23.128, ...\n",
            "Connecting to storage.googleapis.com (storage.googleapis.com)|108.177.97.128|:443... connected.\n",
            "HTTP request sent, awaiting response... 200 OK\n",
            "Length: 93578 (91K) [text/plain]\n",
            "Saving to: ‘/tmp/sonnets.txt’\n",
            "\n",
            "/tmp/sonnets.txt    100%[===================>]  91.38K  --.-KB/s    in 0.001s  \n",
            "\n",
            "2020-09-01 08:25:33 (97.5 MB/s) - ‘/tmp/sonnets.txt’ saved [93578/93578]\n",
            "\n"
          ],
          "name": "stdout"
        }
      ]
    },
    {
      "cell_type": "code",
      "metadata": {
        "colab_type": "code",
        "id": "w9vH8Y59ajYL",
        "colab": {
          "base_uri": "https://localhost:8080/",
          "height": 374
        },
        "outputId": "0476cdb0-e356-4893-955e-d5adb717acd3"
      },
      "source": [
        "model = Sequential()\n",
        "model.add(Embedding(total_words, 100, input_length=max_sequence_len-1))\n",
        "model.add(Bidirectional(LSTM(150, return_sequences = True)))\n",
        "model.add(Dropout(0.2))\n",
        "model.add(LSTM(100))\n",
        "model.add(Dense(total_words/2, activation='relu', kernel_regularizer=regularizers.l2(0.01)))\n",
        "model.add(Dense(total_words, activation='softmax'))\n",
        "model.compile(loss='categorical_crossentropy', optimizer='adam', metrics=['accuracy'])\n",
        "print(model.summary())"
      ],
      "execution_count": 4,
      "outputs": [
        {
          "output_type": "stream",
          "text": [
            "Model: \"sequential\"\n",
            "_________________________________________________________________\n",
            "Layer (type)                 Output Shape              Param #   \n",
            "=================================================================\n",
            "embedding (Embedding)        (None, 10, 100)           321100    \n",
            "_________________________________________________________________\n",
            "bidirectional (Bidirectional (None, 10, 300)           301200    \n",
            "_________________________________________________________________\n",
            "dropout (Dropout)            (None, 10, 300)           0         \n",
            "_________________________________________________________________\n",
            "lstm_1 (LSTM)                (None, 100)               160400    \n",
            "_________________________________________________________________\n",
            "dense (Dense)                (None, 1605)              162105    \n",
            "_________________________________________________________________\n",
            "dense_1 (Dense)              (None, 3211)              5156866   \n",
            "=================================================================\n",
            "Total params: 6,101,671\n",
            "Trainable params: 6,101,671\n",
            "Non-trainable params: 0\n",
            "_________________________________________________________________\n",
            "None\n"
          ],
          "name": "stdout"
        }
      ]
    },
    {
      "cell_type": "code",
      "metadata": {
        "colab_type": "code",
        "id": "AIg2f1HBxqof",
        "colab": {
          "base_uri": "https://localhost:8080/",
          "height": 1000
        },
        "outputId": "88215c3a-e630-4d92-c029-6a0535e429ef"
      },
      "source": [
        " history = model.fit(predictors, label, epochs=100, verbose=1)"
      ],
      "execution_count": 5,
      "outputs": [
        {
          "output_type": "stream",
          "text": [
            "Epoch 1/100\n",
            "484/484 [==============================] - 13s 26ms/step - loss: 6.9149 - accuracy: 0.0219\n",
            "Epoch 2/100\n",
            "484/484 [==============================] - 13s 26ms/step - loss: 6.5016 - accuracy: 0.0217\n",
            "Epoch 3/100\n",
            "484/484 [==============================] - 13s 26ms/step - loss: 6.3952 - accuracy: 0.0251\n",
            "Epoch 4/100\n",
            "484/484 [==============================] - 13s 26ms/step - loss: 6.2696 - accuracy: 0.0286\n",
            "Epoch 5/100\n",
            "484/484 [==============================] - 13s 26ms/step - loss: 6.1860 - accuracy: 0.0338\n",
            "Epoch 6/100\n",
            "484/484 [==============================] - 13s 27ms/step - loss: 6.1083 - accuracy: 0.0368\n",
            "Epoch 7/100\n",
            "484/484 [==============================] - 13s 26ms/step - loss: 6.0345 - accuracy: 0.0388\n",
            "Epoch 8/100\n",
            "484/484 [==============================] - 13s 26ms/step - loss: 5.9542 - accuracy: 0.0417\n",
            "Epoch 9/100\n",
            "484/484 [==============================] - 13s 26ms/step - loss: 5.8627 - accuracy: 0.0464\n",
            "Epoch 10/100\n",
            "484/484 [==============================] - 13s 26ms/step - loss: 5.7568 - accuracy: 0.0540\n",
            "Epoch 11/100\n",
            "484/484 [==============================] - 13s 27ms/step - loss: 5.6497 - accuracy: 0.0590\n",
            "Epoch 12/100\n",
            "484/484 [==============================] - 13s 26ms/step - loss: 5.5393 - accuracy: 0.0659\n",
            "Epoch 13/100\n",
            "484/484 [==============================] - 13s 26ms/step - loss: 5.4273 - accuracy: 0.0704\n",
            "Epoch 14/100\n",
            "484/484 [==============================] - 13s 26ms/step - loss: 5.3181 - accuracy: 0.0809\n",
            "Epoch 15/100\n",
            "484/484 [==============================] - 13s 27ms/step - loss: 5.2068 - accuracy: 0.0886\n",
            "Epoch 16/100\n",
            "484/484 [==============================] - 13s 27ms/step - loss: 5.1049 - accuracy: 0.0954\n",
            "Epoch 17/100\n",
            "484/484 [==============================] - 13s 28ms/step - loss: 4.9973 - accuracy: 0.1023\n",
            "Epoch 18/100\n",
            "484/484 [==============================] - 14s 28ms/step - loss: 4.8979 - accuracy: 0.1127\n",
            "Epoch 19/100\n",
            "484/484 [==============================] - 13s 27ms/step - loss: 4.7939 - accuracy: 0.1227\n",
            "Epoch 20/100\n",
            "484/484 [==============================] - 13s 27ms/step - loss: 4.6999 - accuracy: 0.1320\n",
            "Epoch 21/100\n",
            "484/484 [==============================] - 13s 27ms/step - loss: 4.5980 - accuracy: 0.1438\n",
            "Epoch 22/100\n",
            "484/484 [==============================] - 13s 26ms/step - loss: 4.4946 - accuracy: 0.1524\n",
            "Epoch 23/100\n",
            "484/484 [==============================] - 13s 26ms/step - loss: 4.3988 - accuracy: 0.1594\n",
            "Epoch 24/100\n",
            "484/484 [==============================] - 13s 26ms/step - loss: 4.2985 - accuracy: 0.1729\n",
            "Epoch 25/100\n",
            "484/484 [==============================] - 13s 26ms/step - loss: 4.1971 - accuracy: 0.1859\n",
            "Epoch 26/100\n",
            "484/484 [==============================] - 13s 26ms/step - loss: 4.0963 - accuracy: 0.1969\n",
            "Epoch 27/100\n",
            "484/484 [==============================] - 13s 26ms/step - loss: 3.9999 - accuracy: 0.2123\n",
            "Epoch 28/100\n",
            "484/484 [==============================] - 13s 26ms/step - loss: 3.8958 - accuracy: 0.2272\n",
            "Epoch 29/100\n",
            "484/484 [==============================] - 13s 26ms/step - loss: 3.8005 - accuracy: 0.2435\n",
            "Epoch 30/100\n",
            "484/484 [==============================] - 13s 26ms/step - loss: 3.7062 - accuracy: 0.2591\n",
            "Epoch 31/100\n",
            "484/484 [==============================] - 13s 26ms/step - loss: 3.6071 - accuracy: 0.2820\n",
            "Epoch 32/100\n",
            "484/484 [==============================] - 13s 26ms/step - loss: 3.5108 - accuracy: 0.3013\n",
            "Epoch 33/100\n",
            "484/484 [==============================] - 13s 26ms/step - loss: 3.4382 - accuracy: 0.3139\n",
            "Epoch 34/100\n",
            "484/484 [==============================] - 13s 26ms/step - loss: 3.3436 - accuracy: 0.3345\n",
            "Epoch 35/100\n",
            "484/484 [==============================] - 13s 26ms/step - loss: 3.2675 - accuracy: 0.3497\n",
            "Epoch 36/100\n",
            "484/484 [==============================] - 13s 26ms/step - loss: 3.1763 - accuracy: 0.3730\n",
            "Epoch 37/100\n",
            "484/484 [==============================] - 13s 26ms/step - loss: 3.1070 - accuracy: 0.3864\n",
            "Epoch 38/100\n",
            "484/484 [==============================] - 13s 26ms/step - loss: 3.0284 - accuracy: 0.4100\n",
            "Epoch 39/100\n",
            "484/484 [==============================] - 12s 26ms/step - loss: 2.9565 - accuracy: 0.4217\n",
            "Epoch 40/100\n",
            "484/484 [==============================] - 13s 26ms/step - loss: 2.8851 - accuracy: 0.4390\n",
            "Epoch 41/100\n",
            "484/484 [==============================] - 13s 26ms/step - loss: 2.8267 - accuracy: 0.4540\n",
            "Epoch 42/100\n",
            "484/484 [==============================] - 13s 27ms/step - loss: 2.7720 - accuracy: 0.4671\n",
            "Epoch 43/100\n",
            "484/484 [==============================] - 13s 26ms/step - loss: 2.6924 - accuracy: 0.4885\n",
            "Epoch 44/100\n",
            "484/484 [==============================] - 13s 26ms/step - loss: 2.6334 - accuracy: 0.4997\n",
            "Epoch 45/100\n",
            "484/484 [==============================] - 13s 26ms/step - loss: 2.5829 - accuracy: 0.5103\n",
            "Epoch 46/100\n",
            "484/484 [==============================] - 13s 26ms/step - loss: 2.5302 - accuracy: 0.5202\n",
            "Epoch 47/100\n",
            "484/484 [==============================] - 12s 26ms/step - loss: 2.4765 - accuracy: 0.5327\n",
            "Epoch 48/100\n",
            "484/484 [==============================] - 13s 26ms/step - loss: 2.4271 - accuracy: 0.5437\n",
            "Epoch 49/100\n",
            "484/484 [==============================] - 13s 26ms/step - loss: 2.3705 - accuracy: 0.5606\n",
            "Epoch 50/100\n",
            "484/484 [==============================] - 13s 26ms/step - loss: 2.3327 - accuracy: 0.5681\n",
            "Epoch 51/100\n",
            "484/484 [==============================] - 13s 26ms/step - loss: 2.2837 - accuracy: 0.5773\n",
            "Epoch 52/100\n",
            "484/484 [==============================] - 13s 26ms/step - loss: 2.2414 - accuracy: 0.5872\n",
            "Epoch 53/100\n",
            "484/484 [==============================] - 13s 26ms/step - loss: 2.1853 - accuracy: 0.6012\n",
            "Epoch 54/100\n",
            "484/484 [==============================] - 13s 26ms/step - loss: 2.1487 - accuracy: 0.6098\n",
            "Epoch 55/100\n",
            "484/484 [==============================] - 13s 26ms/step - loss: 2.1106 - accuracy: 0.6185\n",
            "Epoch 56/100\n",
            "484/484 [==============================] - 13s 26ms/step - loss: 2.0755 - accuracy: 0.6250\n",
            "Epoch 57/100\n",
            "484/484 [==============================] - 13s 26ms/step - loss: 2.0350 - accuracy: 0.6319\n",
            "Epoch 58/100\n",
            "484/484 [==============================] - 13s 26ms/step - loss: 1.9997 - accuracy: 0.6435\n",
            "Epoch 59/100\n",
            "484/484 [==============================] - 13s 26ms/step - loss: 1.9697 - accuracy: 0.6478\n",
            "Epoch 60/100\n",
            "484/484 [==============================] - 13s 26ms/step - loss: 1.9282 - accuracy: 0.6544\n",
            "Epoch 61/100\n",
            "484/484 [==============================] - 13s 26ms/step - loss: 1.8994 - accuracy: 0.6615\n",
            "Epoch 62/100\n",
            "484/484 [==============================] - 13s 26ms/step - loss: 1.8809 - accuracy: 0.6625\n",
            "Epoch 63/100\n",
            "484/484 [==============================] - 13s 26ms/step - loss: 1.8244 - accuracy: 0.6766\n",
            "Epoch 64/100\n",
            "484/484 [==============================] - 13s 26ms/step - loss: 1.8088 - accuracy: 0.6804\n",
            "Epoch 65/100\n",
            "484/484 [==============================] - 13s 26ms/step - loss: 1.7784 - accuracy: 0.6870\n",
            "Epoch 66/100\n",
            "484/484 [==============================] - 13s 26ms/step - loss: 1.7714 - accuracy: 0.6865\n",
            "Epoch 67/100\n",
            "484/484 [==============================] - 13s 27ms/step - loss: 1.7242 - accuracy: 0.6962\n",
            "Epoch 68/100\n",
            "484/484 [==============================] - 13s 26ms/step - loss: 1.6867 - accuracy: 0.7035\n",
            "Epoch 69/100\n",
            "484/484 [==============================] - 13s 26ms/step - loss: 1.6701 - accuracy: 0.7073\n",
            "Epoch 70/100\n",
            "484/484 [==============================] - 13s 26ms/step - loss: 1.6336 - accuracy: 0.7183\n",
            "Epoch 71/100\n",
            "484/484 [==============================] - 13s 26ms/step - loss: 1.6207 - accuracy: 0.7181\n",
            "Epoch 72/100\n",
            "484/484 [==============================] - 13s 26ms/step - loss: 1.6207 - accuracy: 0.7150\n",
            "Epoch 73/100\n",
            "484/484 [==============================] - 13s 26ms/step - loss: 1.5791 - accuracy: 0.7271\n",
            "Epoch 74/100\n",
            "484/484 [==============================] - 13s 26ms/step - loss: 1.5449 - accuracy: 0.7366\n",
            "Epoch 75/100\n",
            "484/484 [==============================] - 13s 26ms/step - loss: 1.5294 - accuracy: 0.7369\n",
            "Epoch 76/100\n",
            "484/484 [==============================] - 13s 26ms/step - loss: 1.5156 - accuracy: 0.7361\n",
            "Epoch 77/100\n",
            "484/484 [==============================] - 13s 26ms/step - loss: 1.5064 - accuracy: 0.7366\n",
            "Epoch 78/100\n",
            "484/484 [==============================] - 13s 26ms/step - loss: 1.4768 - accuracy: 0.7454\n",
            "Epoch 79/100\n",
            "484/484 [==============================] - 13s 26ms/step - loss: 1.4616 - accuracy: 0.7480\n",
            "Epoch 80/100\n",
            "484/484 [==============================] - 13s 26ms/step - loss: 1.4476 - accuracy: 0.7524\n",
            "Epoch 81/100\n",
            "484/484 [==============================] - 13s 26ms/step - loss: 1.4226 - accuracy: 0.7555\n",
            "Epoch 82/100\n",
            "484/484 [==============================] - 13s 26ms/step - loss: 1.3968 - accuracy: 0.7592\n",
            "Epoch 83/100\n",
            "484/484 [==============================] - 13s 26ms/step - loss: 1.3830 - accuracy: 0.7654\n",
            "Epoch 84/100\n",
            "484/484 [==============================] - 13s 26ms/step - loss: 1.3704 - accuracy: 0.7663\n",
            "Epoch 85/100\n",
            "484/484 [==============================] - 13s 26ms/step - loss: 1.3665 - accuracy: 0.7646\n",
            "Epoch 86/100\n",
            "484/484 [==============================] - 13s 26ms/step - loss: 1.3661 - accuracy: 0.7630\n",
            "Epoch 87/100\n",
            "484/484 [==============================] - 13s 26ms/step - loss: 1.3511 - accuracy: 0.7628\n",
            "Epoch 88/100\n",
            "484/484 [==============================] - 13s 26ms/step - loss: 1.3124 - accuracy: 0.7748\n",
            "Epoch 89/100\n",
            "484/484 [==============================] - 13s 26ms/step - loss: 1.3001 - accuracy: 0.7760\n",
            "Epoch 90/100\n",
            "484/484 [==============================] - 13s 26ms/step - loss: 1.2875 - accuracy: 0.7776\n",
            "Epoch 91/100\n",
            "484/484 [==============================] - 13s 27ms/step - loss: 1.2666 - accuracy: 0.7833\n",
            "Epoch 92/100\n",
            "484/484 [==============================] - 13s 26ms/step - loss: 1.2701 - accuracy: 0.7791\n",
            "Epoch 93/100\n",
            "484/484 [==============================] - 13s 26ms/step - loss: 1.2575 - accuracy: 0.7833\n",
            "Epoch 94/100\n",
            "484/484 [==============================] - 13s 26ms/step - loss: 1.2357 - accuracy: 0.7886\n",
            "Epoch 95/100\n",
            "484/484 [==============================] - 13s 26ms/step - loss: 1.2319 - accuracy: 0.7864\n",
            "Epoch 96/100\n",
            "484/484 [==============================] - 13s 26ms/step - loss: 1.2144 - accuracy: 0.7894\n",
            "Epoch 97/100\n",
            "484/484 [==============================] - 13s 26ms/step - loss: 1.2080 - accuracy: 0.7917\n",
            "Epoch 98/100\n",
            "484/484 [==============================] - 13s 26ms/step - loss: 1.2012 - accuracy: 0.7900\n",
            "Epoch 99/100\n",
            "484/484 [==============================] - 13s 26ms/step - loss: 1.1894 - accuracy: 0.7921\n",
            "Epoch 100/100\n",
            "484/484 [==============================] - 13s 26ms/step - loss: 1.1893 - accuracy: 0.7903\n"
          ],
          "name": "stdout"
        }
      ]
    },
    {
      "cell_type": "code",
      "metadata": {
        "colab_type": "code",
        "id": "1fXTEO3GJ282",
        "colab": {
          "base_uri": "https://localhost:8080/",
          "height": 545
        },
        "outputId": "b9488482-2dae-4e99-ac0d-61ee8bbc239f"
      },
      "source": [
        "import matplotlib.pyplot as plt\n",
        "acc = history.history['accuracy']\n",
        "loss = history.history['loss']\n",
        "\n",
        "epochs = range(len(acc))\n",
        "\n",
        "plt.plot(epochs, acc, 'b', label='Training accuracy')\n",
        "plt.title('Training accuracy')\n",
        "\n",
        "plt.figure()\n",
        "\n",
        "plt.plot(epochs, loss, 'b', label='Training Loss')\n",
        "plt.title('Training loss')\n",
        "plt.legend()\n",
        "\n",
        "plt.show()"
      ],
      "execution_count": 6,
      "outputs": [
        {
          "output_type": "display_data",
          "data": {
            "image/png": "[encoded data removed]",
            "text/plain": [
              "<Figure size 432x288 with 1 Axes>"
            ]
          },
          "metadata": {
            "tags": [],
            "needs_background": "light"
          }
        },
        {
          "output_type": "display_data",
          "data": {
            "image/png": "[encoded data removed]",
            "text/plain": [
              "<Figure size 432x288 with 1 Axes>"
            ]
          },
          "metadata": {
            "tags": [],
            "needs_background": "light"
          }
        }
      ]
    },
    {
      "cell_type": "code",
      "metadata": {
        "colab_type": "code",
        "id": "6Vc6PHgxa6Hm",
        "colab": {
          "base_uri": "https://localhost:8080/",
          "height": 105
        },
        "outputId": "575f9e3a-5000-469b-e11c-5bf953cba811"
      },
      "source": [
        "seed_text = \"Help me Obi Wan Kenobi, you're my only hope\"\n",
        "next_words = 100\n",
        "  \n",
        "for _ in range(next_words):\n",
        "\ttoken_list = tokenizer.texts_to_sequences([seed_text])[0]\n",
        "\ttoken_list = pad_sequences([token_list], maxlen=max_sequence_len-1, padding='pre')\n",
        "\tpredicted = model.predict_classes(token_list, verbose=0)\n",
        "\toutput_word = \"\"\n",
        "\tfor word, index in tokenizer.word_index.items():\n",
        "\t\tif index == predicted:\n",
        "\t\t\toutput_word = word\n",
        "\t\t\tbreak\n",
        "\tseed_text += \" \" + output_word\n",
        "print(seed_text)"
      ],
      "execution_count": 7,
      "outputs": [
        {
          "output_type": "stream",
          "text": [
            "WARNING:tensorflow:From <ipython-input-7-622d307fa19a>:7: Sequential.predict_classes (from tensorflow.python.keras.engine.sequential) is deprecated and will be removed after 2021-01-01.\n",
            "Instructions for updating:\n",
            "Please use instead:* `np.argmax(model.predict(x), axis=-1)`,   if your model does multi-class classification   (e.g. if it uses a `softmax` last-layer activation).* `(model.predict(x) > 0.5).astype(\"int32\")`,   if your model does binary classification   (e.g. if it uses a `sigmoid` last-layer activation).\n",
            "Help me Obi Wan Kenobi, you're my only hope muse me think me last thee bring life let thee thence so 'will ' did approve from thee so be slain from thee when well grows face long outworn hour state well up young days go clears happy grew mad me mad me last so told all beauty's growth of memory ' did grow lives who used new painting hour mine eyes be you still bright go still me past thee live some words days lies gracious grows alone still show thee thee when it so dost you still keep when it 'will ' is tell the face hath sorrows\n"
          ],
          "name": "stdout"
        }
      ]
    }
  ]
}