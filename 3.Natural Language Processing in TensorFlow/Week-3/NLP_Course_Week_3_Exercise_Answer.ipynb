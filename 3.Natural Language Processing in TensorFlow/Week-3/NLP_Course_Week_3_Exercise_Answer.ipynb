{
  "nbformat": 4,
  "nbformat_minor": 0,
  "metadata": {
    "accelerator": "GPU",
    "colab": {
      "name": "NLP Course - Week 3 Exercise Answer.ipynb",
      "provenance": [],
      "toc_visible": true
    },
    "kernelspec": {
      "display_name": "Python 3",
      "language": "python",
      "name": "python3"
    },
    "language_info": {
      "codemirror_mode": {
        "name": "ipython",
        "version": 3
      },
      "file_extension": ".py",
      "mimetype": "text/x-python",
      "name": "python",
      "nbconvert_exporter": "python",
      "pygments_lexer": "ipython3",
      "version": "3.7.6"
    }
  },
  "cells": [
    {
      "cell_type": "code",
      "metadata": {
        "colab_type": "code",
        "id": "zX4Kg8DUTKWO",
        "colab": {}
      },
      "source": [
        "#@title Licensed under the Apache License, Version 2.0 (the \"License\");\n",
        "# you may not use this file except in compliance with the License.\n",
        "# You may obtain a copy of the License at\n",
        "#\n",
        "# https://www.apache.org/licenses/LICENSE-2.0\n",
        "#\n",
        "# Unless required by applicable law or agreed to in writing, software\n",
        "# distributed under the License is distributed on an \"AS IS\" BASIS,\n",
        "# WITHOUT WARRANTIES OR CONDITIONS OF ANY KIND, either express or implied.\n",
        "# See the License for the specific language governing permissions and\n",
        "# limitations under the License."
      ],
      "execution_count": 6,
      "outputs": []
    },
    {
      "cell_type": "markdown",
      "metadata": {
        "id": "AUe7HTGPfNGI",
        "colab_type": "text"
      },
      "source": [
        "<a href=\"https://colab.research.google.com/github/lmoroney/dlaicourse/blob/master/TensorFlow%20In%20Practice/Course%203%20-%20NLP/NLP%20Course%20-%20Week%203%20Exercise%20Answer.ipynb\" target=\"_parent\"><img src=\"https://colab.research.google.com/assets/colab-badge.svg\" alt=\"Open In Colab\"/></a>"
      ]
    },
    {
      "cell_type": "code",
      "metadata": {
        "colab_type": "code",
        "id": "hmA6EzkQJ5jt",
        "colab": {}
      },
      "source": [
        "import json\n",
        "import tensorflow as tf\n",
        "import csv\n",
        "import random\n",
        "import numpy as np\n",
        "\n",
        "from tensorflow.keras.preprocessing.text import Tokenizer\n",
        "from tensorflow.keras.preprocessing.sequence import pad_sequences\n",
        "from tensorflow.keras.utils import to_categorical\n",
        "from tensorflow.keras import regularizers\n",
        "\n",
        "\n",
        "embedding_dim = 100\n",
        "max_length = 16\n",
        "trunc_type='post'\n",
        "padding_type='post'\n",
        "oov_tok = \"<OOV>\"\n",
        "training_size=160000\n",
        "test_portion=.1\n",
        "\n",
        "corpus = []\n"
      ],
      "execution_count": 7,
      "outputs": []
    },
    {
      "cell_type": "code",
      "metadata": {
        "colab_type": "code",
        "id": "bM0l_dORKqE0",
        "colab": {
          "base_uri": "https://localhost:8080/",
          "height": 204
        },
        "outputId": "7dbc3590-f534-4936-c4e2-2476d3555121"
      },
      "source": [
        "# Note that I cleaned the Stanford dataset to remove LATIN1 encoding to make it easier for Python CSV reader\n",
        "# You can do that yourself with:\n",
        "# iconv -f LATIN1 -t UTF8 training.1600000.processed.noemoticon.csv -o training_cleaned.csv\n",
        "# I then hosted it on my site to make it easier to use in this notebook\n",
        "\n",
        "!wget --no-check-certificate \\\n",
        "    https://storage.googleapis.com/laurencemoroney-blog.appspot.com/training_cleaned.csv \\\n",
        "    -O /tmp/training_cleaned.csv\n",
        "\n",
        "num_sentences = 0\n",
        "\n",
        "with open(\"/tmp/training_cleaned.csv\") as csvfile:\n",
        "    reader = csv.reader(csvfile, delimiter=',')\n",
        "    for row in reader:\n",
        "        list_item=[]\n",
        "        list_item.append(row[5])\n",
        "        this_label=row[0]\n",
        "        if this_label=='0':\n",
        "            list_item.append(0)\n",
        "        else:\n",
        "            list_item.append(1)\n",
        "        num_sentences = num_sentences + 1\n",
        "        corpus.append(list_item)\n"
      ],
      "execution_count": 8,
      "outputs": [
        {
          "output_type": "stream",
          "text": [
            "--2020-08-31 17:36:04--  https://storage.googleapis.com/laurencemoroney-blog.appspot.com/training_cleaned.csv\n",
            "Resolving storage.googleapis.com (storage.googleapis.com)... 108.177.97.128, 108.177.125.128, 74.125.203.128, ...\n",
            "Connecting to storage.googleapis.com (storage.googleapis.com)|108.177.97.128|:443... connected.\n",
            "HTTP request sent, awaiting response... 200 OK\n",
            "Length: 238942690 (228M) [application/octet-stream]\n",
            "Saving to: ‘/tmp/training_cleaned.csv’\n",
            "\n",
            "/tmp/training_clean 100%[===================>] 227.87M  45.9MB/s    in 5.0s    \n",
            "\n",
            "2020-08-31 17:36:09 (45.9 MB/s) - ‘/tmp/training_cleaned.csv’ saved [238942690/238942690]\n",
            "\n"
          ],
          "name": "stdout"
        }
      ]
    },
    {
      "cell_type": "code",
      "metadata": {
        "colab_type": "code",
        "id": "3kxblBUjEUX-",
        "colab": {
          "base_uri": "https://localhost:8080/",
          "height": 68
        },
        "outputId": "6f1413fd-b8c4-40fa-894a-79d1d5e2e103"
      },
      "source": [
        "print(num_sentences)\n",
        "print(len(corpus))\n",
        "print(corpus[1])\n",
        "\n",
        "# Expected Output:\n",
        "# 1600000\n",
        "# 1600000\n",
        "# [\"is upset that he can't update his Facebook by texting it... and might cry as a result  School today also. Blah!\", 0]"
      ],
      "execution_count": 9,
      "outputs": [
        {
          "output_type": "stream",
          "text": [
            "1600000\n",
            "1600000\n",
            "[\"is upset that he can't update his Facebook by texting it... and might cry as a result  School today also. Blah!\", 0]\n"
          ],
          "name": "stdout"
        }
      ]
    },
    {
      "cell_type": "code",
      "metadata": {
        "colab_type": "code",
        "id": "ohOGz24lsNAD",
        "colab": {}
      },
      "source": [
        "sentences=[]\n",
        "labels=[]\n",
        "random.shuffle(corpus)\n",
        "for x in range(training_size):\n",
        "    sentences.append(corpus[x][0])\n",
        "    labels.append(corpus[x][1])\n",
        "\n",
        "\n",
        "tokenizer = Tokenizer()\n",
        "tokenizer.fit_on_texts(sentences)\n",
        "\n",
        "word_index = tokenizer.word_index\n",
        "vocab_size=len(word_index)\n",
        "\n",
        "sequences = tokenizer.texts_to_sequences(sentences)\n",
        "padded = pad_sequences(sequences, maxlen=max_length, padding=padding_type, truncating=trunc_type)\n",
        "\n",
        "split = int(test_portion * training_size)\n",
        "\n",
        "test_sequences = padded[0:split]\n",
        "training_sequences = padded[split:training_size]\n",
        "test_labels = labels[0:split]\n",
        "training_labels = labels[split:training_size]"
      ],
      "execution_count": 10,
      "outputs": []
    },
    {
      "cell_type": "code",
      "metadata": {
        "colab_type": "code",
        "id": "gIrtRem1En3N",
        "colab": {
          "base_uri": "https://localhost:8080/",
          "height": 51
        },
        "outputId": "f6219882-3f7a-4c35-dda8-57e600913fc8"
      },
      "source": [
        "print(vocab_size)\n",
        "print(word_index['i'])\n",
        "# Expected Output\n",
        "# 138858\n",
        "# 1"
      ],
      "execution_count": 11,
      "outputs": [
        {
          "output_type": "stream",
          "text": [
            "138442\n",
            "1\n"
          ],
          "name": "stdout"
        }
      ]
    },
    {
      "cell_type": "code",
      "metadata": {
        "colab_type": "code",
        "id": "C1zdgJkusRh0",
        "colab": {
          "base_uri": "https://localhost:8080/",
          "height": 204
        },
        "outputId": "fea03866-d435-4fb0-ba59-7f8187b4550f"
      },
      "source": [
        "# Note this is the 100 dimension version of GloVe from Stanford\n",
        "# I unzipped and hosted it on my site to make this notebook easier\n",
        "!wget --no-check-certificate \\\n",
        "    https://storage.googleapis.com/laurencemoroney-blog.appspot.com/glove.6B.100d.txt \\\n",
        "    -O /tmp/glove.6B.100d.txt\n",
        "embeddings_index = {};\n",
        "with open('/tmp/glove.6B.100d.txt') as f:\n",
        "    for line in f:\n",
        "        values = line.split();\n",
        "        word = values[0];\n",
        "        coefs = np.asarray(values[1:], dtype='float32');\n",
        "        embeddings_index[word] = coefs;\n",
        "\n",
        "embeddings_matrix = np.zeros((vocab_size+1, embedding_dim));\n",
        "for word, i in word_index.items():\n",
        "    embedding_vector = embeddings_index.get(word);\n",
        "    if embedding_vector is not None:\n",
        "        embeddings_matrix[i] = embedding_vector;"
      ],
      "execution_count": 12,
      "outputs": [
        {
          "output_type": "stream",
          "text": [
            "--2020-08-31 17:36:42--  https://storage.googleapis.com/laurencemoroney-blog.appspot.com/glove.6B.100d.txt\n",
            "Resolving storage.googleapis.com (storage.googleapis.com)... 74.125.23.128, 74.125.203.128, 64.233.189.128, ...\n",
            "Connecting to storage.googleapis.com (storage.googleapis.com)|74.125.23.128|:443... connected.\n",
            "HTTP request sent, awaiting response... 200 OK\n",
            "Length: 347116733 (331M) [text/plain]\n",
            "Saving to: ‘/tmp/glove.6B.100d.txt’\n",
            "\n",
            "/tmp/glove.6B.100d. 100%[===================>] 331.04M  50.7MB/s    in 6.5s    \n",
            "\n",
            "2020-08-31 17:36:49 (50.7 MB/s) - ‘/tmp/glove.6B.100d.txt’ saved [347116733/347116733]\n",
            "\n"
          ],
          "name": "stdout"
        }
      ]
    },
    {
      "cell_type": "code",
      "metadata": {
        "colab_type": "code",
        "id": "71NLk_lpFLNt",
        "colab": {
          "base_uri": "https://localhost:8080/",
          "height": 34
        },
        "outputId": "89fc6e3b-34e9-48b8-ce79-0ef9ecad1f47"
      },
      "source": [
        "print(len(embeddings_matrix))\n",
        "# Expected Output\n",
        "# 138859"
      ],
      "execution_count": 13,
      "outputs": [
        {
          "output_type": "stream",
          "text": [
            "138443\n"
          ],
          "name": "stdout"
        }
      ]
    },
    {
      "cell_type": "code",
      "metadata": {
        "colab_type": "code",
        "id": "iKKvbuEBOGFz",
        "colab": {
          "base_uri": "https://localhost:8080/",
          "height": 1000
        },
        "outputId": "7b521689-8310-404d-c3aa-0f6d8dd7424d"
      },
      "source": [
        "model = tf.keras.Sequential([\n",
        "    tf.keras.layers.Embedding(vocab_size+1, embedding_dim, input_length=max_length, weights=[embeddings_matrix], trainable=False),\n",
        "    tf.keras.layers.Dropout(0.2),\n",
        "    tf.keras.layers.Conv1D(64, 5, activation='relu'),\n",
        "    tf.keras.layers.MaxPooling1D(pool_size=4),\n",
        "    tf.keras.layers.LSTM(64),\n",
        "    tf.keras.layers.Dense(1, activation='sigmoid')\n",
        "])\n",
        "model.compile(loss='binary_crossentropy',optimizer='adam',metrics=['accuracy'])\n",
        "model.summary()\n",
        "\n",
        "num_epochs = 50\n",
        "\n",
        "training_padded = np.array(training_sequences)\n",
        "training_labels = np.array(training_labels)\n",
        "testing_padded = np.array(test_sequences)\n",
        "testing_labels = np.array(test_labels)\n",
        "\n",
        "history = model.fit(training_padded, training_labels, epochs=num_epochs, validation_data=(testing_padded, testing_labels), verbose=2)\n",
        "\n",
        "print(\"Training Complete\")"
      ],
      "execution_count": 14,
      "outputs": [
        {
          "output_type": "stream",
          "text": [
            "Model: \"sequential\"\n",
            "_________________________________________________________________\n",
            "Layer (type)                 Output Shape              Param #   \n",
            "=================================================================\n",
            "embedding (Embedding)        (None, 16, 100)           13844300  \n",
            "_________________________________________________________________\n",
            "dropout (Dropout)            (None, 16, 100)           0         \n",
            "_________________________________________________________________\n",
            "conv1d (Conv1D)              (None, 12, 64)            32064     \n",
            "_________________________________________________________________\n",
            "max_pooling1d (MaxPooling1D) (None, 3, 64)             0         \n",
            "_________________________________________________________________\n",
            "lstm (LSTM)                  (None, 64)                33024     \n",
            "_________________________________________________________________\n",
            "dense (Dense)                (None, 1)                 65        \n",
            "=================================================================\n",
            "Total params: 13,909,453\n",
            "Trainable params: 65,153\n",
            "Non-trainable params: 13,844,300\n",
            "_________________________________________________________________\n",
            "Epoch 1/50\n",
            "4500/4500 - 20s - loss: 0.5657 - accuracy: 0.7009 - val_loss: 0.5324 - val_accuracy: 0.7312\n",
            "Epoch 2/50\n",
            "4500/4500 - 19s - loss: 0.5260 - accuracy: 0.7340 - val_loss: 0.5199 - val_accuracy: 0.7382\n",
            "Epoch 3/50\n",
            "4500/4500 - 19s - loss: 0.5089 - accuracy: 0.7450 - val_loss: 0.5126 - val_accuracy: 0.7462\n",
            "Epoch 4/50\n",
            "4500/4500 - 19s - loss: 0.4976 - accuracy: 0.7535 - val_loss: 0.5138 - val_accuracy: 0.7469\n",
            "Epoch 5/50\n",
            "4500/4500 - 19s - loss: 0.4900 - accuracy: 0.7583 - val_loss: 0.5082 - val_accuracy: 0.7487\n",
            "Epoch 6/50\n",
            "4500/4500 - 19s - loss: 0.4818 - accuracy: 0.7635 - val_loss: 0.5155 - val_accuracy: 0.7438\n",
            "Epoch 7/50\n",
            "4500/4500 - 19s - loss: 0.4772 - accuracy: 0.7673 - val_loss: 0.5118 - val_accuracy: 0.7483\n",
            "Epoch 8/50\n",
            "4500/4500 - 19s - loss: 0.4717 - accuracy: 0.7705 - val_loss: 0.5079 - val_accuracy: 0.7490\n",
            "Epoch 9/50\n",
            "4500/4500 - 19s - loss: 0.4669 - accuracy: 0.7719 - val_loss: 0.5112 - val_accuracy: 0.7502\n",
            "Epoch 10/50\n",
            "4500/4500 - 19s - loss: 0.4635 - accuracy: 0.7745 - val_loss: 0.5088 - val_accuracy: 0.7538\n",
            "Epoch 11/50\n",
            "4500/4500 - 19s - loss: 0.4619 - accuracy: 0.7760 - val_loss: 0.5109 - val_accuracy: 0.7502\n",
            "Epoch 12/50\n",
            "4500/4500 - 19s - loss: 0.4573 - accuracy: 0.7783 - val_loss: 0.5162 - val_accuracy: 0.7515\n",
            "Epoch 13/50\n",
            "4500/4500 - 21s - loss: 0.4542 - accuracy: 0.7812 - val_loss: 0.5244 - val_accuracy: 0.7426\n",
            "Epoch 14/50\n",
            "4500/4500 - 19s - loss: 0.4521 - accuracy: 0.7820 - val_loss: 0.5139 - val_accuracy: 0.7527\n",
            "Epoch 15/50\n",
            "4500/4500 - 19s - loss: 0.4505 - accuracy: 0.7833 - val_loss: 0.5192 - val_accuracy: 0.7503\n",
            "Epoch 16/50\n",
            "4500/4500 - 19s - loss: 0.4485 - accuracy: 0.7830 - val_loss: 0.5128 - val_accuracy: 0.7511\n",
            "Epoch 17/50\n",
            "4500/4500 - 19s - loss: 0.4466 - accuracy: 0.7846 - val_loss: 0.5174 - val_accuracy: 0.7526\n",
            "Epoch 18/50\n",
            "4500/4500 - 19s - loss: 0.4454 - accuracy: 0.7858 - val_loss: 0.5165 - val_accuracy: 0.7513\n",
            "Epoch 19/50\n",
            "4500/4500 - 19s - loss: 0.4433 - accuracy: 0.7867 - val_loss: 0.5171 - val_accuracy: 0.7487\n",
            "Epoch 20/50\n",
            "4500/4500 - 19s - loss: 0.4423 - accuracy: 0.7858 - val_loss: 0.5235 - val_accuracy: 0.7486\n",
            "Epoch 21/50\n",
            "4500/4500 - 19s - loss: 0.4412 - accuracy: 0.7880 - val_loss: 0.5167 - val_accuracy: 0.7505\n",
            "Epoch 22/50\n",
            "4500/4500 - 19s - loss: 0.4390 - accuracy: 0.7891 - val_loss: 0.5316 - val_accuracy: 0.7438\n",
            "Epoch 23/50\n",
            "4500/4500 - 19s - loss: 0.4382 - accuracy: 0.7902 - val_loss: 0.5218 - val_accuracy: 0.7479\n",
            "Epoch 24/50\n",
            "4500/4500 - 19s - loss: 0.4373 - accuracy: 0.7904 - val_loss: 0.5218 - val_accuracy: 0.7505\n",
            "Epoch 25/50\n",
            "4500/4500 - 19s - loss: 0.4376 - accuracy: 0.7898 - val_loss: 0.5299 - val_accuracy: 0.7463\n",
            "Epoch 26/50\n",
            "4500/4500 - 19s - loss: 0.4358 - accuracy: 0.7913 - val_loss: 0.5257 - val_accuracy: 0.7507\n",
            "Epoch 27/50\n",
            "4500/4500 - 19s - loss: 0.4360 - accuracy: 0.7918 - val_loss: 0.5313 - val_accuracy: 0.7471\n",
            "Epoch 28/50\n",
            "4500/4500 - 19s - loss: 0.4352 - accuracy: 0.7918 - val_loss: 0.5241 - val_accuracy: 0.7482\n",
            "Epoch 29/50\n",
            "4500/4500 - 21s - loss: 0.4353 - accuracy: 0.7904 - val_loss: 0.5260 - val_accuracy: 0.7448\n",
            "Epoch 30/50\n",
            "4500/4500 - 19s - loss: 0.4331 - accuracy: 0.7931 - val_loss: 0.5238 - val_accuracy: 0.7509\n",
            "Epoch 31/50\n",
            "4500/4500 - 19s - loss: 0.4332 - accuracy: 0.7924 - val_loss: 0.5265 - val_accuracy: 0.7467\n",
            "Epoch 32/50\n",
            "4500/4500 - 19s - loss: 0.4318 - accuracy: 0.7929 - val_loss: 0.5219 - val_accuracy: 0.7489\n",
            "Epoch 33/50\n",
            "4500/4500 - 19s - loss: 0.4308 - accuracy: 0.7949 - val_loss: 0.5231 - val_accuracy: 0.7477\n",
            "Epoch 34/50\n",
            "4500/4500 - 19s - loss: 0.4309 - accuracy: 0.7936 - val_loss: 0.5229 - val_accuracy: 0.7503\n",
            "Epoch 35/50\n",
            "4500/4500 - 19s - loss: 0.4312 - accuracy: 0.7943 - val_loss: 0.5283 - val_accuracy: 0.7492\n",
            "Epoch 36/50\n",
            "4500/4500 - 19s - loss: 0.4300 - accuracy: 0.7935 - val_loss: 0.5267 - val_accuracy: 0.7514\n",
            "Epoch 37/50\n",
            "4500/4500 - 19s - loss: 0.4292 - accuracy: 0.7954 - val_loss: 0.5228 - val_accuracy: 0.7476\n",
            "Epoch 38/50\n",
            "4500/4500 - 19s - loss: 0.4301 - accuracy: 0.7944 - val_loss: 0.5325 - val_accuracy: 0.7496\n",
            "Epoch 39/50\n",
            "4500/4500 - 19s - loss: 0.4300 - accuracy: 0.7950 - val_loss: 0.5261 - val_accuracy: 0.7517\n",
            "Epoch 40/50\n",
            "4500/4500 - 19s - loss: 0.4277 - accuracy: 0.7956 - val_loss: 0.5263 - val_accuracy: 0.7504\n",
            "Epoch 41/50\n",
            "4500/4500 - 19s - loss: 0.4284 - accuracy: 0.7946 - val_loss: 0.5253 - val_accuracy: 0.7493\n",
            "Epoch 42/50\n",
            "4500/4500 - 19s - loss: 0.4275 - accuracy: 0.7959 - val_loss: 0.5260 - val_accuracy: 0.7489\n",
            "Epoch 43/50\n",
            "4500/4500 - 19s - loss: 0.4282 - accuracy: 0.7960 - val_loss: 0.5250 - val_accuracy: 0.7504\n",
            "Epoch 44/50\n",
            "4500/4500 - 19s - loss: 0.4279 - accuracy: 0.7959 - val_loss: 0.5256 - val_accuracy: 0.7495\n",
            "Epoch 45/50\n",
            "4500/4500 - 19s - loss: 0.4258 - accuracy: 0.7972 - val_loss: 0.5310 - val_accuracy: 0.7452\n",
            "Epoch 46/50\n",
            "4500/4500 - 20s - loss: 0.4287 - accuracy: 0.7945 - val_loss: 0.5242 - val_accuracy: 0.7505\n",
            "Epoch 47/50\n",
            "4500/4500 - 19s - loss: 0.4280 - accuracy: 0.7959 - val_loss: 0.5262 - val_accuracy: 0.7494\n",
            "Epoch 48/50\n",
            "4500/4500 - 19s - loss: 0.4258 - accuracy: 0.7975 - val_loss: 0.5241 - val_accuracy: 0.7506\n",
            "Epoch 49/50\n",
            "4500/4500 - 19s - loss: 0.4248 - accuracy: 0.7968 - val_loss: 0.5263 - val_accuracy: 0.7500\n",
            "Epoch 50/50\n",
            "4500/4500 - 19s - loss: 0.4254 - accuracy: 0.7967 - val_loss: 0.5264 - val_accuracy: 0.7501\n",
            "Training Complete\n"
          ],
          "name": "stdout"
        }
      ]
    },
    {
      "cell_type": "code",
      "metadata": {
        "colab_type": "code",
        "id": "qxju4ItJKO8F",
        "colab": {
          "base_uri": "https://localhost:8080/",
          "height": 607
        },
        "outputId": "e7785216-6199-47e2-ee37-e72be3d1cf88"
      },
      "source": [
        "import matplotlib.image  as mpimg\n",
        "import matplotlib.pyplot as plt\n",
        "\n",
        "#-----------------------------------------------------------\n",
        "# Retrieve a list of list results on training and test data\n",
        "# sets for each training epoch\n",
        "#-----------------------------------------------------------\n",
        "acc=history.history['accuracy']\n",
        "val_acc=history.history['val_accuracy']\n",
        "loss=history.history['loss']\n",
        "val_loss=history.history['val_loss']\n",
        "\n",
        "epochs=range(len(acc)) # Get number of epochs\n",
        "\n",
        "#------------------------------------------------\n",
        "# Plot training and validation accuracy per epoch\n",
        "#------------------------------------------------\n",
        "plt.plot(epochs, acc, 'r')\n",
        "plt.plot(epochs, val_acc, 'b')\n",
        "plt.title('Training and validation accuracy')\n",
        "plt.xlabel(\"Epochs\")\n",
        "plt.ylabel(\"Accuracy\")\n",
        "plt.legend([\"Accuracy\", \"Validation Accuracy\"])\n",
        "\n",
        "plt.figure()\n",
        "\n",
        "#------------------------------------------------\n",
        "# Plot training and validation loss per epoch\n",
        "#------------------------------------------------\n",
        "plt.plot(epochs, loss, 'r')\n",
        "plt.plot(epochs, val_loss, 'b')\n",
        "plt.title('Training and validation loss')\n",
        "plt.xlabel(\"Epochs\")\n",
        "plt.ylabel(\"Loss\")\n",
        "plt.legend([\"Loss\", \"Validation Loss\"])\n",
        "\n",
        "plt.figure()\n",
        "\n",
        "\n",
        "# Expected Output\n",
        "# A chart where the validation loss does not increase sharply!"
      ],
      "execution_count": 15,
      "outputs": [
        {
          "output_type": "execute_result",
          "data": {
            "text/plain": [
              "<Figure size 432x288 with 0 Axes>"
            ]
          },
          "metadata": {
            "tags": []
          },
          "execution_count": 15
        },
        {
          "output_type": "display_data",
          "data": {
            "image/png": "[encoded data removed]",
            "text/plain": [
              "<Figure size 432x288 with 1 Axes>"
            ]
          },
          "metadata": {
            "tags": [],
            "needs_background": "light"
          }
        },
        {
          "output_type": "display_data",
          "data": {
            "image/png": "[encoded data removed]",
            "text/plain": [
              "<Figure size 432x288 with 1 Axes>"
            ]
          },
          "metadata": {
            "tags": [],
            "needs_background": "light"
          }
        },
        {
          "output_type": "display_data",
          "data": {
            "text/plain": [
              "<Figure size 432x288 with 0 Axes>"
            ]
          },
          "metadata": {
            "tags": []
          }
        }
      ]
    }
  ]
}