{
  "nbformat": 4,
  "nbformat_minor": 0,
  "metadata": {
    "accelerator": "GPU",
    "colab": {
      "name": "Course 3 - Week 3 - Lesson 2c.ipynb",
      "provenance": [],
      "collapsed_sections": [],
      "toc_visible": true
    },
    "kernelspec": {
      "display_name": "Python 3",
      "language": "python",
      "name": "python3"
    },
    "language_info": {
      "codemirror_mode": {
        "name": "ipython",
        "version": 3
      },
      "file_extension": ".py",
      "mimetype": "text/x-python",
      "name": "python",
      "nbconvert_exporter": "python",
      "pygments_lexer": "ipython3",
      "version": "3.7.6"
    }
  },
  "cells": [
    {
      "cell_type": "code",
      "metadata": {
        "colab_type": "code",
        "id": "zX4Kg8DUTKWO",
        "colab": {}
      },
      "source": [
        "#@title Licensed under the Apache License, Version 2.0 (the \"License\");\n",
        "# you may not use this file except in compliance with the License.\n",
        "# You may obtain a copy of the License at\n",
        "#\n",
        "# https://www.apache.org/licenses/LICENSE-2.0\n",
        "#\n",
        "# Unless required by applicable law or agreed to in writing, software\n",
        "# distributed under the License is distributed on an \"AS IS\" BASIS,\n",
        "# WITHOUT WARRANTIES OR CONDITIONS OF ANY KIND, either express or implied.\n",
        "# See the License for the specific language governing permissions and\n",
        "# limitations under the License."
      ],
      "execution_count": 1,
      "outputs": []
    },
    {
      "cell_type": "markdown",
      "metadata": {
        "id": "Zy1Uc-9rXvbo",
        "colab_type": "text"
      },
      "source": [
        "<a href=\"https://colab.research.google.com/github/lmoroney/dlaicourse/blob/master/TensorFlow%20In%20Practice/Course%203%20-%20NLP/Course%203%20-%20Week%203%20-%20Lesson%202c.ipynb\" target=\"_parent\"><img src=\"https://colab.research.google.com/assets/colab-badge.svg\" alt=\"Open In Colab\"/></a>"
      ]
    },
    {
      "cell_type": "code",
      "metadata": {
        "colab_type": "code",
        "id": "jGwXGIXvFhXW",
        "colab": {
          "base_uri": "https://localhost:8080/",
          "height": 1000
        },
        "outputId": "dcbe4c8c-6f5c-4f55-d39c-0aca9f94775b"
      },
      "source": [
        "import numpy as np\n",
        "\n",
        "import json\n",
        "import tensorflow as tf\n",
        "\n",
        "from tensorflow.keras.preprocessing.text import Tokenizer\n",
        "from tensorflow.keras.preprocessing.sequence import pad_sequences\n",
        "\n",
        "!wget --no-check-certificate \\\n",
        "    https://storage.googleapis.com/laurencemoroney-blog.appspot.com/sarcasm.json \\\n",
        "    -O /tmp/sarcasm.json\n",
        "\n",
        "vocab_size = 1000\n",
        "embedding_dim = 16\n",
        "max_length = 120\n",
        "trunc_type='post'\n",
        "padding_type='post'\n",
        "oov_tok = \"<OOV>\"\n",
        "training_size = 20000\n",
        "\n",
        "\n",
        "with open(\"/tmp/sarcasm.json\", 'r') as f:\n",
        "    datastore = json.load(f)\n",
        "\n",
        "\n",
        "sentences = []\n",
        "labels = []\n",
        "urls = []\n",
        "for item in datastore:\n",
        "    sentences.append(item['headline'])\n",
        "    labels.append(item['is_sarcastic'])\n",
        "\n",
        "training_sentences = sentences[0:training_size]\n",
        "testing_sentences = sentences[training_size:]\n",
        "training_labels = labels[0:training_size]\n",
        "testing_labels = labels[training_size:]\n",
        "\n",
        "tokenizer = Tokenizer(num_words=vocab_size, oov_token=oov_tok)\n",
        "tokenizer.fit_on_texts(training_sentences)\n",
        "\n",
        "word_index = tokenizer.word_index\n",
        "\n",
        "training_sequences = tokenizer.texts_to_sequences(training_sentences)\n",
        "training_padded = pad_sequences(training_sequences, maxlen=max_length, padding=padding_type, truncating=trunc_type)\n",
        "\n",
        "testing_sequences = tokenizer.texts_to_sequences(testing_sentences)\n",
        "testing_padded = pad_sequences(testing_sequences, maxlen=max_length, padding=padding_type, truncating=trunc_type)\n",
        "\n",
        "model = tf.keras.Sequential([\n",
        "    tf.keras.layers.Embedding(vocab_size, embedding_dim, input_length=max_length),\n",
        "    tf.keras.layers.Conv1D(128, 5, activation='relu'),\n",
        "    tf.keras.layers.GlobalMaxPooling1D(),\n",
        "    tf.keras.layers.Dense(24, activation='relu'),\n",
        "    tf.keras.layers.Dense(1, activation='sigmoid')\n",
        "])\n",
        "model.compile(loss='binary_crossentropy',optimizer='adam',metrics=['accuracy'])\n",
        "model.summary()\n",
        "\n",
        "num_epochs = 50\n",
        "\n",
        "training_padded = np.array(training_padded)\n",
        "training_labels = np.array(training_labels)\n",
        "testing_padded = np.array(testing_padded)\n",
        "testing_labels = np.array(testing_labels)\n",
        "\n",
        "history = model.fit(training_padded, training_labels, epochs=num_epochs, validation_data=(testing_padded, testing_labels), verbose=1)\n"
      ],
      "execution_count": 2,
      "outputs": [
        {
          "output_type": "stream",
          "text": [
            "--2020-08-31 16:54:36--  https://storage.googleapis.com/laurencemoroney-blog.appspot.com/sarcasm.json\n",
            "Resolving storage.googleapis.com (storage.googleapis.com)... 74.125.140.128, 108.177.15.128, 173.194.76.128, ...\n",
            "Connecting to storage.googleapis.com (storage.googleapis.com)|74.125.140.128|:443... connected.\n",
            "HTTP request sent, awaiting response... 200 OK\n",
            "Length: 5643545 (5.4M) [application/json]\n",
            "Saving to: ‘/tmp/sarcasm.json’\n",
            "\n",
            "/tmp/sarcasm.json   100%[===================>]   5.38M  --.-KB/s    in 0.08s   \n",
            "\n",
            "2020-08-31 16:54:36 (68.9 MB/s) - ‘/tmp/sarcasm.json’ saved [5643545/5643545]\n",
            "\n",
            "Model: \"sequential\"\n",
            "_________________________________________________________________\n",
            "Layer (type)                 Output Shape              Param #   \n",
            "=================================================================\n",
            "embedding (Embedding)        (None, 120, 16)           16000     \n",
            "_________________________________________________________________\n",
            "conv1d (Conv1D)              (None, 116, 128)          10368     \n",
            "_________________________________________________________________\n",
            "global_max_pooling1d (Global (None, 128)               0         \n",
            "_________________________________________________________________\n",
            "dense (Dense)                (None, 24)                3096      \n",
            "_________________________________________________________________\n",
            "dense_1 (Dense)              (None, 1)                 25        \n",
            "=================================================================\n",
            "Total params: 29,489\n",
            "Trainable params: 29,489\n",
            "Non-trainable params: 0\n",
            "_________________________________________________________________\n",
            "Epoch 1/50\n",
            "625/625 [==============================] - 4s 6ms/step - loss: 0.4788 - accuracy: 0.7491 - val_loss: 0.4137 - val_accuracy: 0.8140\n",
            "Epoch 2/50\n",
            "625/625 [==============================] - 4s 6ms/step - loss: 0.3599 - accuracy: 0.8379 - val_loss: 0.4021 - val_accuracy: 0.8103\n",
            "Epoch 3/50\n",
            "625/625 [==============================] - 4s 6ms/step - loss: 0.3232 - accuracy: 0.8569 - val_loss: 0.3919 - val_accuracy: 0.8222\n",
            "Epoch 4/50\n",
            "625/625 [==============================] - 4s 6ms/step - loss: 0.2905 - accuracy: 0.8751 - val_loss: 0.4031 - val_accuracy: 0.8219\n",
            "Epoch 5/50\n",
            "625/625 [==============================] - 4s 6ms/step - loss: 0.2591 - accuracy: 0.8929 - val_loss: 0.4348 - val_accuracy: 0.8141\n",
            "Epoch 6/50\n",
            "625/625 [==============================] - 4s 6ms/step - loss: 0.2284 - accuracy: 0.9067 - val_loss: 0.4546 - val_accuracy: 0.8161\n",
            "Epoch 7/50\n",
            "625/625 [==============================] - 4s 6ms/step - loss: 0.1992 - accuracy: 0.9206 - val_loss: 0.4866 - val_accuracy: 0.8104\n",
            "Epoch 8/50\n",
            "625/625 [==============================] - 4s 6ms/step - loss: 0.1706 - accuracy: 0.9341 - val_loss: 0.5376 - val_accuracy: 0.8138\n",
            "Epoch 9/50\n",
            "625/625 [==============================] - 4s 6ms/step - loss: 0.1448 - accuracy: 0.9452 - val_loss: 0.5940 - val_accuracy: 0.8080\n",
            "Epoch 10/50\n",
            "625/625 [==============================] - 4s 6ms/step - loss: 0.1236 - accuracy: 0.9541 - val_loss: 0.6439 - val_accuracy: 0.8043\n",
            "Epoch 11/50\n",
            "625/625 [==============================] - 4s 6ms/step - loss: 0.1022 - accuracy: 0.9636 - val_loss: 0.7327 - val_accuracy: 0.8027\n",
            "Epoch 12/50\n",
            "625/625 [==============================] - 4s 6ms/step - loss: 0.0876 - accuracy: 0.9691 - val_loss: 0.8468 - val_accuracy: 0.7974\n",
            "Epoch 13/50\n",
            "625/625 [==============================] - 4s 6ms/step - loss: 0.0740 - accuracy: 0.9748 - val_loss: 0.8660 - val_accuracy: 0.7971\n",
            "Epoch 14/50\n",
            "625/625 [==============================] - 4s 6ms/step - loss: 0.0652 - accuracy: 0.9775 - val_loss: 0.9520 - val_accuracy: 0.7956\n",
            "Epoch 15/50\n",
            "625/625 [==============================] - 4s 6ms/step - loss: 0.0571 - accuracy: 0.9801 - val_loss: 1.0569 - val_accuracy: 0.8032\n",
            "Epoch 16/50\n",
            "625/625 [==============================] - 4s 6ms/step - loss: 0.0521 - accuracy: 0.9811 - val_loss: 1.1212 - val_accuracy: 0.7982\n",
            "Epoch 17/50\n",
            "625/625 [==============================] - 4s 6ms/step - loss: 0.0534 - accuracy: 0.9799 - val_loss: 1.1646 - val_accuracy: 0.8013\n",
            "Epoch 18/50\n",
            "625/625 [==============================] - 4s 6ms/step - loss: 0.0472 - accuracy: 0.9815 - val_loss: 1.2046 - val_accuracy: 0.7982\n",
            "Epoch 19/50\n",
            "625/625 [==============================] - 4s 6ms/step - loss: 0.0387 - accuracy: 0.9862 - val_loss: 1.2974 - val_accuracy: 0.7934\n",
            "Epoch 20/50\n",
            "625/625 [==============================] - 4s 6ms/step - loss: 0.0374 - accuracy: 0.9858 - val_loss: 1.3432 - val_accuracy: 0.7942\n",
            "Epoch 21/50\n",
            "625/625 [==============================] - 4s 6ms/step - loss: 0.0372 - accuracy: 0.9860 - val_loss: 1.3974 - val_accuracy: 0.7898\n",
            "Epoch 22/50\n",
            "625/625 [==============================] - 4s 6ms/step - loss: 0.0320 - accuracy: 0.9879 - val_loss: 1.4545 - val_accuracy: 0.7909\n",
            "Epoch 23/50\n",
            "625/625 [==============================] - 4s 6ms/step - loss: 0.0351 - accuracy: 0.9868 - val_loss: 1.4492 - val_accuracy: 0.7980\n",
            "Epoch 24/50\n",
            "625/625 [==============================] - 4s 6ms/step - loss: 0.0339 - accuracy: 0.9863 - val_loss: 1.5225 - val_accuracy: 0.7956\n",
            "Epoch 25/50\n",
            "625/625 [==============================] - 4s 6ms/step - loss: 0.0309 - accuracy: 0.9873 - val_loss: 1.6108 - val_accuracy: 0.7909\n",
            "Epoch 26/50\n",
            "625/625 [==============================] - 4s 6ms/step - loss: 0.0289 - accuracy: 0.9887 - val_loss: 1.6701 - val_accuracy: 0.7939\n",
            "Epoch 27/50\n",
            "625/625 [==============================] - 4s 6ms/step - loss: 0.0279 - accuracy: 0.9884 - val_loss: 1.6856 - val_accuracy: 0.7916\n",
            "Epoch 28/50\n",
            "625/625 [==============================] - 4s 6ms/step - loss: 0.0290 - accuracy: 0.9879 - val_loss: 1.8976 - val_accuracy: 0.7855\n",
            "Epoch 29/50\n",
            "625/625 [==============================] - 4s 6ms/step - loss: 0.0339 - accuracy: 0.9865 - val_loss: 1.8326 - val_accuracy: 0.7953\n",
            "Epoch 30/50\n",
            "625/625 [==============================] - 4s 6ms/step - loss: 0.0244 - accuracy: 0.9904 - val_loss: 1.8953 - val_accuracy: 0.7968\n",
            "Epoch 31/50\n",
            "625/625 [==============================] - 4s 6ms/step - loss: 0.0210 - accuracy: 0.9912 - val_loss: 1.9083 - val_accuracy: 0.7885\n",
            "Epoch 32/50\n",
            "625/625 [==============================] - 4s 6ms/step - loss: 0.0214 - accuracy: 0.9912 - val_loss: 1.9666 - val_accuracy: 0.7864\n",
            "Epoch 33/50\n",
            "625/625 [==============================] - 4s 6ms/step - loss: 0.0267 - accuracy: 0.9886 - val_loss: 1.9474 - val_accuracy: 0.7906\n",
            "Epoch 34/50\n",
            "625/625 [==============================] - 4s 6ms/step - loss: 0.0249 - accuracy: 0.9901 - val_loss: 2.0711 - val_accuracy: 0.7936\n",
            "Epoch 35/50\n",
            "625/625 [==============================] - 4s 6ms/step - loss: 0.0230 - accuracy: 0.9901 - val_loss: 2.1165 - val_accuracy: 0.7843\n",
            "Epoch 36/50\n",
            "625/625 [==============================] - 4s 6ms/step - loss: 0.0253 - accuracy: 0.9895 - val_loss: 2.1796 - val_accuracy: 0.7849\n",
            "Epoch 37/50\n",
            "625/625 [==============================] - 4s 6ms/step - loss: 0.0265 - accuracy: 0.9890 - val_loss: 2.1469 - val_accuracy: 0.7885\n",
            "Epoch 38/50\n",
            "625/625 [==============================] - 4s 6ms/step - loss: 0.0255 - accuracy: 0.9893 - val_loss: 2.2004 - val_accuracy: 0.7880\n",
            "Epoch 39/50\n",
            "625/625 [==============================] - 4s 7ms/step - loss: 0.0271 - accuracy: 0.9894 - val_loss: 2.3080 - val_accuracy: 0.7895\n",
            "Epoch 40/50\n",
            "625/625 [==============================] - 4s 6ms/step - loss: 0.0235 - accuracy: 0.9901 - val_loss: 2.1734 - val_accuracy: 0.7873\n",
            "Epoch 41/50\n",
            "625/625 [==============================] - 4s 6ms/step - loss: 0.0183 - accuracy: 0.9921 - val_loss: 2.1861 - val_accuracy: 0.7863\n",
            "Epoch 42/50\n",
            "625/625 [==============================] - 4s 6ms/step - loss: 0.0205 - accuracy: 0.9908 - val_loss: 2.3283 - val_accuracy: 0.7942\n",
            "Epoch 43/50\n",
            "625/625 [==============================] - 4s 6ms/step - loss: 0.0198 - accuracy: 0.9913 - val_loss: 2.3102 - val_accuracy: 0.7924\n",
            "Epoch 44/50\n",
            "625/625 [==============================] - 4s 6ms/step - loss: 0.0225 - accuracy: 0.9908 - val_loss: 2.2549 - val_accuracy: 0.7901\n",
            "Epoch 45/50\n",
            "625/625 [==============================] - 4s 6ms/step - loss: 0.0243 - accuracy: 0.9898 - val_loss: 2.3810 - val_accuracy: 0.7822\n",
            "Epoch 46/50\n",
            "625/625 [==============================] - 4s 6ms/step - loss: 0.0212 - accuracy: 0.9908 - val_loss: 2.3899 - val_accuracy: 0.7936\n",
            "Epoch 47/50\n",
            "625/625 [==============================] - 4s 6ms/step - loss: 0.0207 - accuracy: 0.9905 - val_loss: 2.4755 - val_accuracy: 0.7922\n",
            "Epoch 48/50\n",
            "625/625 [==============================] - 4s 6ms/step - loss: 0.0232 - accuracy: 0.9899 - val_loss: 2.3971 - val_accuracy: 0.7922\n",
            "Epoch 49/50\n",
            "625/625 [==============================] - 4s 6ms/step - loss: 0.0225 - accuracy: 0.9908 - val_loss: 2.5289 - val_accuracy: 0.7870\n",
            "Epoch 50/50\n",
            "625/625 [==============================] - 4s 6ms/step - loss: 0.0202 - accuracy: 0.9908 - val_loss: 2.6308 - val_accuracy: 0.7904\n"
          ],
          "name": "stdout"
        }
      ]
    },
    {
      "cell_type": "code",
      "metadata": {
        "colab_type": "code",
        "id": "g9DC6dmLF8DC",
        "colab": {
          "base_uri": "https://localhost:8080/",
          "height": 542
        },
        "outputId": "b3fca6b5-8691-4734-d8f4-19714c33dc7a"
      },
      "source": [
        "import matplotlib.pyplot as plt\n",
        "\n",
        "\n",
        "def plot_graphs(history, string):\n",
        "  plt.plot(history.history[string])\n",
        "  plt.plot(history.history['val_'+string])\n",
        "  plt.xlabel(\"Epochs\")\n",
        "  plt.ylabel(string)\n",
        "  plt.legend([string, 'val_'+string])\n",
        "  plt.show()\n",
        "\n",
        "plot_graphs(history, 'accuracy')\n",
        "plot_graphs(history, 'loss')"
      ],
      "execution_count": 3,
      "outputs": [
        {
          "output_type": "display_data",
          "data": {
            "image/png": "[encoded data removed]",
            "text/plain": [
              "<Figure size 432x288 with 1 Axes>"
            ]
          },
          "metadata": {
            "tags": [],
            "needs_background": "light"
          }
        },
        {
          "output_type": "display_data",
          "data": {
            "image/png": "[encoded data removed]",
            "text/plain": [
              "<Figure size 432x288 with 1 Axes>"
            ]
          },
          "metadata": {
            "tags": [],
            "needs_background": "light"
          }
        }
      ]
    },
    {
      "cell_type": "code",
      "metadata": {
        "colab_type": "code",
        "id": "7ZEZIUppGhdi",
        "colab": {}
      },
      "source": [
        "model.save(\"test.h5\")"
      ],
      "execution_count": 4,
      "outputs": []
    }
  ]
}