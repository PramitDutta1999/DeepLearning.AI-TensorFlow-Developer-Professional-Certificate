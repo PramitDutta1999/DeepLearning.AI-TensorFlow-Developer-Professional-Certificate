{
  "nbformat": 4,
  "nbformat_minor": 0,
  "metadata": {
    "accelerator": "GPU",
    "colab": {
      "name": "NLP Course - Week 3 Exercise Question.ipynb",
      "provenance": [],
      "toc_visible": true
    },
    "kernelspec": {
      "display_name": "Python 3",
      "name": "python3"
    }
  },
  "cells": [
    {
      "cell_type": "code",
      "metadata": {
        "id": "zX4Kg8DUTKWO",
        "colab_type": "code",
        "colab": {}
      },
      "source": [
        "#@title Licensed under the Apache License, Version 2.0 (the \"License\");\n",
        "# you may not use this file except in compliance with the License.\n",
        "# You may obtain a copy of the License at\n",
        "#\n",
        "# https://www.apache.org/licenses/LICENSE-2.0\n",
        "#\n",
        "# Unless required by applicable law or agreed to in writing, software\n",
        "# distributed under the License is distributed on an \"AS IS\" BASIS,\n",
        "# WITHOUT WARRANTIES OR CONDITIONS OF ANY KIND, either express or implied.\n",
        "# See the License for the specific language governing permissions and\n",
        "# limitations under the License."
      ],
      "execution_count": 1,
      "outputs": []
    },
    {
      "cell_type": "code",
      "metadata": {
        "colab_type": "code",
        "id": "hmA6EzkQJ5jt",
        "colab": {}
      },
      "source": [
        "import json\n",
        "import tensorflow as tf\n",
        "import csv\n",
        "import random\n",
        "import numpy as np\n",
        "\n",
        "from tensorflow.keras.preprocessing.text import Tokenizer\n",
        "from tensorflow.keras.preprocessing.sequence import pad_sequences\n",
        "from tensorflow.keras.utils import to_categorical\n",
        "from tensorflow.keras import regularizers\n",
        "\n",
        "\n",
        "embedding_dim = 100\n",
        "max_length = 16\n",
        "trunc_type='post'\n",
        "padding_type='post'\n",
        "oov_tok = \"<OOV>\"\n",
        "training_size=160000\n",
        "test_portion=.1\n",
        "\n",
        "corpus = []\n"
      ],
      "execution_count": 3,
      "outputs": []
    },
    {
      "cell_type": "code",
      "metadata": {
        "colab_type": "code",
        "id": "bM0l_dORKqE0",
        "colab": {
          "base_uri": "https://localhost:8080/",
          "height": 204
        },
        "outputId": "82403799-017d-4851-a3c2-05f8997e11ec"
      },
      "source": [
        "# Note that I cleaned the Stanford dataset to remove LATIN1 encoding to make it easier for Python CSV reader\n",
        "# You can do that yourself with:\n",
        "# iconv -f LATIN1 -t UTF8 training.1600000.processed.noemoticon.csv -o training_cleaned.csv\n",
        "# I then hosted it on my site to make it easier to use in this notebook\n",
        "\n",
        "!wget --no-check-certificate \\\n",
        "    https://storage.googleapis.com/laurencemoroney-blog.appspot.com/training_cleaned.csv \\\n",
        "    -O /tmp/training_cleaned.csv\n",
        "\n",
        "num_sentences = 0\n",
        "\n",
        "with open(\"/tmp/training_cleaned.csv\") as csvfile:\n",
        "    reader = csv.reader(csvfile, delimiter=',')\n",
        "    for row in reader:\n",
        "       reader = csv.reader(csvfile, delimiter=',')\n",
        "       for row in reader:\n",
        "        list_item=[]\n",
        "        list_item.append(row[5])\n",
        "        this_label=row[0]\n",
        "        if this_label=='0':\n",
        "            list_item.append(0)\n",
        "        else:\n",
        "            list_item.append(1)\n",
        "        num_sentences = num_sentences + 1\n",
        "        corpus.append(list_item)\n"
      ],
      "execution_count": 4,
      "outputs": [
        {
          "output_type": "stream",
          "text": [
            "--2020-08-31 17:10:32--  https://storage.googleapis.com/laurencemoroney-blog.appspot.com/training_cleaned.csv\n",
            "Resolving storage.googleapis.com (storage.googleapis.com)... 74.125.28.128, 74.125.142.128, 74.125.195.128, ...\n",
            "Connecting to storage.googleapis.com (storage.googleapis.com)|74.125.28.128|:443... connected.\n",
            "HTTP request sent, awaiting response... 200 OK\n",
            "Length: 238942690 (228M) [application/octet-stream]\n",
            "Saving to: ‘/tmp/training_cleaned.csv’\n",
            "\n",
            "/tmp/training_clean 100%[===================>] 227.87M   225MB/s    in 1.0s    \n",
            "\n",
            "2020-08-31 17:10:33 (225 MB/s) - ‘/tmp/training_cleaned.csv’ saved [238942690/238942690]\n",
            "\n"
          ],
          "name": "stdout"
        }
      ]
    },
    {
      "cell_type": "code",
      "metadata": {
        "colab_type": "code",
        "id": "3kxblBUjEUX-",
        "colab": {
          "base_uri": "https://localhost:8080/",
          "height": 68
        },
        "outputId": "55130ad2-430d-4201-ffd3-ecf2f04b17e4"
      },
      "source": [
        "print(num_sentences)\n",
        "print(len(corpus))\n",
        "print(corpus[1])\n",
        "\n",
        "# Expected Output:\n",
        "# 1600000\n",
        "# 1600000\n",
        "# [\"is upset that he can't update his Facebook by texting it... and might cry as a result  School today also. Blah!\", 0]"
      ],
      "execution_count": 5,
      "outputs": [
        {
          "output_type": "stream",
          "text": [
            "1599999\n",
            "1599999\n",
            "['@Kenichan I dived many times for the ball. Managed to save 50%  The rest go out of bounds', 0]\n"
          ],
          "name": "stdout"
        }
      ]
    },
    {
      "cell_type": "code",
      "metadata": {
        "colab_type": "code",
        "id": "ohOGz24lsNAD",
        "colab": {}
      },
      "source": [
        "sentences=[]\n",
        "labels=[]\n",
        "random.shuffle(corpus)\n",
        "for x in range(training_size):\n",
        "    sentences.append(corpus[x][0])\n",
        "    labels.append(corpus[x][1])\n",
        "\n",
        "\n",
        "tokenizer = Tokenizer()\n",
        "tokenizer.fit_on_texts(sentences)\n",
        "\n",
        "word_index = tokenizer.word_index\n",
        "vocab_size=len(word_index)\n",
        "\n",
        "sequences = tokenizer.texts_to_sequences(sentences)\n",
        "padded = pad_sequences(sequences, maxlen=max_length, padding=padding_type, truncating=trunc_type)\n",
        "\n",
        "split = int(test_portion * training_size)\n",
        "\n",
        "test_sequences = padded[0:split]\n",
        "training_sequences = padded[split:training_size]\n",
        "test_labels = labels[0:split]\n",
        "training_labels = labels[split:training_size]"
      ],
      "execution_count": 8,
      "outputs": []
    },
    {
      "cell_type": "code",
      "metadata": {
        "colab_type": "code",
        "id": "gIrtRem1En3N",
        "colab": {
          "base_uri": "https://localhost:8080/",
          "height": 51
        },
        "outputId": "109a0cc7-bb7c-48fc-f5be-12637084858e"
      },
      "source": [
        "print(vocab_size)\n",
        "print(word_index['i'])\n",
        "# Expected Output\n",
        "# 138858\n",
        "# 1"
      ],
      "execution_count": 9,
      "outputs": [
        {
          "output_type": "stream",
          "text": [
            "138573\n",
            "1\n"
          ],
          "name": "stdout"
        }
      ]
    },
    {
      "cell_type": "code",
      "metadata": {
        "colab_type": "code",
        "id": "C1zdgJkusRh0",
        "colab": {
          "base_uri": "https://localhost:8080/",
          "height": 204
        },
        "outputId": "9f556aa8-50b7-475e-ecc4-5d7f11d3ceb2"
      },
      "source": [
        "# Note this is the 100 dimension version of GloVe from Stanford\n",
        "# I unzipped and hosted it on my site to make this notebook easier\n",
        "!wget --no-check-certificate \\\n",
        "    https://storage.googleapis.com/laurencemoroney-blog.appspot.com/glove.6B.100d.txt \\\n",
        "    -O /tmp/glove.6B.100d.txt\n",
        "embeddings_index = {};\n",
        "with open('/tmp/glove.6B.100d.txt') as f:\n",
        "    for line in f:\n",
        "        values = line.split();\n",
        "        word = values[0];\n",
        "        coefs = np.asarray(values[1:], dtype='float32');\n",
        "        embeddings_index[word] = coefs;\n",
        "\n",
        "embeddings_matrix = np.zeros((vocab_size+1, embedding_dim));\n",
        "for word, i in word_index.items():\n",
        "    embedding_vector = embeddings_index.get(word);\n",
        "    if embedding_vector is not None:\n",
        "        embeddings_matrix[i] = embedding_vector;"
      ],
      "execution_count": 10,
      "outputs": [
        {
          "output_type": "stream",
          "text": [
            "--2020-08-31 17:14:58--  https://storage.googleapis.com/laurencemoroney-blog.appspot.com/glove.6B.100d.txt\n",
            "Resolving storage.googleapis.com (storage.googleapis.com)... 74.125.20.128, 173.194.203.128, 74.125.142.128, ...\n",
            "Connecting to storage.googleapis.com (storage.googleapis.com)|74.125.20.128|:443... connected.\n",
            "HTTP request sent, awaiting response... 200 OK\n",
            "Length: 347116733 (331M) [text/plain]\n",
            "Saving to: ‘/tmp/glove.6B.100d.txt’\n",
            "\n",
            "/tmp/glove.6B.100d. 100%[===================>] 331.04M   104MB/s    in 3.2s    \n",
            "\n",
            "2020-08-31 17:15:01 (104 MB/s) - ‘/tmp/glove.6B.100d.txt’ saved [347116733/347116733]\n",
            "\n"
          ],
          "name": "stdout"
        }
      ]
    },
    {
      "cell_type": "code",
      "metadata": {
        "colab_type": "code",
        "id": "71NLk_lpFLNt",
        "colab": {
          "base_uri": "https://localhost:8080/",
          "height": 34
        },
        "outputId": "603b68bb-bc97-44aa-ccac-f62355ac50c1"
      },
      "source": [
        "print(len(embeddings_matrix))\n",
        "# Expected Output\n",
        "# 138859"
      ],
      "execution_count": 11,
      "outputs": [
        {
          "output_type": "stream",
          "text": [
            "138574\n"
          ],
          "name": "stdout"
        }
      ]
    },
    {
      "cell_type": "code",
      "metadata": {
        "colab_type": "code",
        "id": "iKKvbuEBOGFz",
        "colab": {
          "base_uri": "https://localhost:8080/",
          "height": 1000
        },
        "outputId": "e418252d-be08-4dec-e888-48e8ae5d9ff0"
      },
      "source": [
        "model = tf.keras.Sequential([\n",
        "    tf.keras.layers.Embedding(vocab_size+1, embedding_dim, input_length=max_length, weights=[embeddings_matrix], trainable=False),\n",
        "    tf.keras.layers.Dropout(0.2),\n",
        "    tf.keras.layers.Conv1D(64, 5, activation='relu'),\n",
        "    tf.keras.layers.MaxPooling1D(pool_size=4),\n",
        "    tf.keras.layers.LSTM(64),\n",
        "    tf.keras.layers.Dense(1, activation='sigmoid')\n",
        "])\n",
        "model.compile(loss='binary_crossentropy',optimizer='adam',metrics=['accuracy'])\n",
        "model.summary()\n",
        "\n",
        "num_epochs = 50\n",
        "\n",
        "training_padded = np.array(training_sequences)\n",
        "training_labels = np.array(training_labels)\n",
        "testing_padded = np.array(test_sequences)\n",
        "testing_labels = np.array(test_labels)\n",
        "\n",
        "history = model.fit(training_padded, training_labels, epochs=num_epochs, validation_data=(testing_padded, testing_labels), verbose=2)\n",
        "\n",
        "print(\"Training Complete\")\n"
      ],
      "execution_count": 13,
      "outputs": [
        {
          "output_type": "stream",
          "text": [
            "Model: \"sequential\"\n",
            "_________________________________________________________________\n",
            "Layer (type)                 Output Shape              Param #   \n",
            "=================================================================\n",
            "embedding (Embedding)        (None, 16, 100)           13857400  \n",
            "_________________________________________________________________\n",
            "dropout (Dropout)            (None, 16, 100)           0         \n",
            "_________________________________________________________________\n",
            "conv1d (Conv1D)              (None, 12, 64)            32064     \n",
            "_________________________________________________________________\n",
            "max_pooling1d (MaxPooling1D) (None, 3, 64)             0         \n",
            "_________________________________________________________________\n",
            "lstm (LSTM)                  (None, 64)                33024     \n",
            "_________________________________________________________________\n",
            "dense (Dense)                (None, 1)                 65        \n",
            "=================================================================\n",
            "Total params: 13,922,553\n",
            "Trainable params: 65,153\n",
            "Non-trainable params: 13,857,400\n",
            "_________________________________________________________________\n",
            "Epoch 1/50\n",
            "4500/4500 - 16s - loss: 0.5685 - accuracy: 0.6972 - val_loss: 0.5146 - val_accuracy: 0.7455\n",
            "Epoch 2/50\n",
            "4500/4500 - 15s - loss: 0.5293 - accuracy: 0.7304 - val_loss: 0.5017 - val_accuracy: 0.7500\n",
            "Epoch 3/50\n",
            "4500/4500 - 15s - loss: 0.5134 - accuracy: 0.7422 - val_loss: 0.4984 - val_accuracy: 0.7509\n",
            "Epoch 4/50\n",
            "4500/4500 - 15s - loss: 0.5018 - accuracy: 0.7496 - val_loss: 0.4998 - val_accuracy: 0.7511\n",
            "Epoch 5/50\n",
            "4500/4500 - 16s - loss: 0.4929 - accuracy: 0.7564 - val_loss: 0.4965 - val_accuracy: 0.7563\n",
            "Epoch 6/50\n",
            "4500/4500 - 15s - loss: 0.4859 - accuracy: 0.7602 - val_loss: 0.4944 - val_accuracy: 0.7566\n",
            "Epoch 7/50\n",
            "4500/4500 - 15s - loss: 0.4803 - accuracy: 0.7636 - val_loss: 0.4941 - val_accuracy: 0.7613\n",
            "Epoch 8/50\n",
            "4500/4500 - 15s - loss: 0.4760 - accuracy: 0.7668 - val_loss: 0.4914 - val_accuracy: 0.7613\n",
            "Epoch 9/50\n",
            "4500/4500 - 15s - loss: 0.4711 - accuracy: 0.7705 - val_loss: 0.4951 - val_accuracy: 0.7613\n",
            "Epoch 10/50\n",
            "4500/4500 - 15s - loss: 0.4677 - accuracy: 0.7714 - val_loss: 0.4940 - val_accuracy: 0.7568\n",
            "Epoch 11/50\n",
            "4500/4500 - 15s - loss: 0.4653 - accuracy: 0.7719 - val_loss: 0.5026 - val_accuracy: 0.7569\n",
            "Epoch 12/50\n",
            "4500/4500 - 15s - loss: 0.4613 - accuracy: 0.7755 - val_loss: 0.4992 - val_accuracy: 0.7577\n",
            "Epoch 13/50\n",
            "4500/4500 - 15s - loss: 0.4586 - accuracy: 0.7780 - val_loss: 0.5041 - val_accuracy: 0.7566\n",
            "Epoch 14/50\n",
            "4500/4500 - 15s - loss: 0.4553 - accuracy: 0.7802 - val_loss: 0.5040 - val_accuracy: 0.7558\n",
            "Epoch 15/50\n",
            "4500/4500 - 15s - loss: 0.4547 - accuracy: 0.7796 - val_loss: 0.5051 - val_accuracy: 0.7586\n",
            "Epoch 16/50\n",
            "4500/4500 - 15s - loss: 0.4511 - accuracy: 0.7819 - val_loss: 0.5002 - val_accuracy: 0.7584\n",
            "Epoch 17/50\n",
            "4500/4500 - 15s - loss: 0.4504 - accuracy: 0.7824 - val_loss: 0.5019 - val_accuracy: 0.7540\n",
            "Epoch 18/50\n",
            "4500/4500 - 15s - loss: 0.4473 - accuracy: 0.7841 - val_loss: 0.5026 - val_accuracy: 0.7570\n",
            "Epoch 19/50\n",
            "4500/4500 - 15s - loss: 0.4474 - accuracy: 0.7839 - val_loss: 0.5054 - val_accuracy: 0.7541\n",
            "Epoch 20/50\n",
            "4500/4500 - 16s - loss: 0.4471 - accuracy: 0.7857 - val_loss: 0.5059 - val_accuracy: 0.7578\n",
            "Epoch 21/50\n",
            "4500/4500 - 15s - loss: 0.4456 - accuracy: 0.7863 - val_loss: 0.5068 - val_accuracy: 0.7569\n",
            "Epoch 22/50\n",
            "4500/4500 - 15s - loss: 0.4419 - accuracy: 0.7875 - val_loss: 0.5089 - val_accuracy: 0.7512\n",
            "Epoch 23/50\n",
            "4500/4500 - 15s - loss: 0.4424 - accuracy: 0.7877 - val_loss: 0.5089 - val_accuracy: 0.7533\n",
            "Epoch 24/50\n",
            "4500/4500 - 15s - loss: 0.4415 - accuracy: 0.7874 - val_loss: 0.5100 - val_accuracy: 0.7546\n",
            "Epoch 25/50\n",
            "4500/4500 - 15s - loss: 0.4411 - accuracy: 0.7888 - val_loss: 0.5046 - val_accuracy: 0.7617\n",
            "Epoch 26/50\n",
            "4500/4500 - 15s - loss: 0.4395 - accuracy: 0.7894 - val_loss: 0.5088 - val_accuracy: 0.7589\n",
            "Epoch 27/50\n",
            "4500/4500 - 15s - loss: 0.4379 - accuracy: 0.7890 - val_loss: 0.5047 - val_accuracy: 0.7567\n",
            "Epoch 28/50\n",
            "4500/4500 - 15s - loss: 0.4395 - accuracy: 0.7892 - val_loss: 0.5073 - val_accuracy: 0.7547\n",
            "Epoch 29/50\n",
            "4500/4500 - 15s - loss: 0.4356 - accuracy: 0.7919 - val_loss: 0.5109 - val_accuracy: 0.7551\n",
            "Epoch 30/50\n",
            "4500/4500 - 15s - loss: 0.4378 - accuracy: 0.7895 - val_loss: 0.5119 - val_accuracy: 0.7563\n",
            "Epoch 31/50\n",
            "4500/4500 - 15s - loss: 0.4349 - accuracy: 0.7927 - val_loss: 0.5134 - val_accuracy: 0.7501\n",
            "Epoch 32/50\n",
            "4500/4500 - 15s - loss: 0.4352 - accuracy: 0.7925 - val_loss: 0.5122 - val_accuracy: 0.7508\n",
            "Epoch 33/50\n",
            "4500/4500 - 15s - loss: 0.4340 - accuracy: 0.7933 - val_loss: 0.5095 - val_accuracy: 0.7524\n",
            "Epoch 34/50\n",
            "4500/4500 - 15s - loss: 0.4338 - accuracy: 0.7924 - val_loss: 0.5114 - val_accuracy: 0.7499\n",
            "Epoch 35/50\n",
            "4500/4500 - 15s - loss: 0.4338 - accuracy: 0.7931 - val_loss: 0.5139 - val_accuracy: 0.7486\n",
            "Epoch 36/50\n",
            "4500/4500 - 15s - loss: 0.4334 - accuracy: 0.7936 - val_loss: 0.5079 - val_accuracy: 0.7524\n",
            "Epoch 37/50\n",
            "4500/4500 - 15s - loss: 0.4329 - accuracy: 0.7927 - val_loss: 0.5106 - val_accuracy: 0.7531\n",
            "Epoch 38/50\n",
            "4500/4500 - 15s - loss: 0.4327 - accuracy: 0.7940 - val_loss: 0.5143 - val_accuracy: 0.7524\n",
            "Epoch 39/50\n",
            "4500/4500 - 15s - loss: 0.4329 - accuracy: 0.7930 - val_loss: 0.5124 - val_accuracy: 0.7544\n",
            "Epoch 40/50\n",
            "4500/4500 - 16s - loss: 0.4328 - accuracy: 0.7931 - val_loss: 0.5163 - val_accuracy: 0.7503\n",
            "Epoch 41/50\n",
            "4500/4500 - 15s - loss: 0.4319 - accuracy: 0.7943 - val_loss: 0.5120 - val_accuracy: 0.7556\n",
            "Epoch 42/50\n",
            "4500/4500 - 15s - loss: 0.4318 - accuracy: 0.7940 - val_loss: 0.5195 - val_accuracy: 0.7506\n",
            "Epoch 43/50\n",
            "4500/4500 - 15s - loss: 0.4302 - accuracy: 0.7939 - val_loss: 0.5167 - val_accuracy: 0.7517\n",
            "Epoch 44/50\n",
            "4500/4500 - 15s - loss: 0.4317 - accuracy: 0.7944 - val_loss: 0.5165 - val_accuracy: 0.7530\n",
            "Epoch 45/50\n",
            "4500/4500 - 15s - loss: 0.4321 - accuracy: 0.7938 - val_loss: 0.5106 - val_accuracy: 0.7555\n",
            "Epoch 46/50\n",
            "4500/4500 - 15s - loss: 0.4313 - accuracy: 0.7944 - val_loss: 0.5141 - val_accuracy: 0.7509\n",
            "Epoch 47/50\n",
            "4500/4500 - 15s - loss: 0.4300 - accuracy: 0.7951 - val_loss: 0.5142 - val_accuracy: 0.7548\n",
            "Epoch 48/50\n",
            "4500/4500 - 15s - loss: 0.4293 - accuracy: 0.7952 - val_loss: 0.5175 - val_accuracy: 0.7563\n",
            "Epoch 49/50\n",
            "4500/4500 - 15s - loss: 0.4291 - accuracy: 0.7961 - val_loss: 0.5166 - val_accuracy: 0.7542\n",
            "Epoch 50/50\n",
            "4500/4500 - 15s - loss: 0.4300 - accuracy: 0.7954 - val_loss: 0.5167 - val_accuracy: 0.7523\n",
            "Training Complete\n"
          ],
          "name": "stdout"
        }
      ]
    },
    {
      "cell_type": "code",
      "metadata": {
        "colab_type": "code",
        "id": "qxju4ItJKO8F",
        "colab": {
          "base_uri": "https://localhost:8080/",
          "height": 607
        },
        "outputId": "b00b2d98-3dbf-4e10-a9cd-91a0a40865b4"
      },
      "source": [
        "import matplotlib.image  as mpimg\n",
        "import matplotlib.pyplot as plt\n",
        "\n",
        "#-----------------------------------------------------------\n",
        "# Retrieve a list of list results on training and test data\n",
        "# sets for each training epoch\n",
        "#-----------------------------------------------------------\n",
        "acc=history.history['accuracy']\n",
        "val_acc=history.history['val_accuracy']\n",
        "loss=history.history['loss']\n",
        "val_loss=history.history['val_loss']\n",
        "\n",
        "epochs=range(len(acc)) # Get number of epochs\n",
        "\n",
        "#------------------------------------------------\n",
        "# Plot training and validation accuracy per epoch\n",
        "#------------------------------------------------\n",
        "plt.plot(epochs, acc, 'r')\n",
        "plt.plot(epochs, val_acc, 'b')\n",
        "plt.title('Training and validation accuracy')\n",
        "plt.xlabel(\"Epochs\")\n",
        "plt.ylabel(\"Accuracy\")\n",
        "plt.legend([\"Accuracy\", \"Validation Accuracy\"])\n",
        "\n",
        "plt.figure()\n",
        "\n",
        "#------------------------------------------------\n",
        "# Plot training and validation loss per epoch\n",
        "#------------------------------------------------\n",
        "plt.plot(epochs, loss, 'r')\n",
        "plt.plot(epochs, val_loss, 'b')\n",
        "plt.title('Training and validation loss')\n",
        "plt.xlabel(\"Epochs\")\n",
        "plt.ylabel(\"Loss\")\n",
        "plt.legend([\"Loss\", \"Validation Loss\"])\n",
        "\n",
        "plt.figure()\n",
        "\n",
        "\n",
        "# Expected Output\n",
        "# A chart where the validation loss does not increase sharply!"
      ],
      "execution_count": 14,
      "outputs": [
        {
          "output_type": "execute_result",
          "data": {
            "text/plain": [
              "<Figure size 432x288 with 0 Axes>"
            ]
          },
          "metadata": {
            "tags": []
          },
          "execution_count": 14
        },
        {
          "output_type": "display_data",
          "data": {
            "image/png": "[encoded data removed]",
            "text/plain": [
              "<Figure size 432x288 with 1 Axes>"
            ]
          },
          "metadata": {
            "tags": [],
            "needs_background": "light"
          }
        },
        {
          "output_type": "display_data",
          "data": {
            "image/png": "[encoded data removed]",
            "text/plain": [
              "<Figure size 432x288 with 1 Axes>"
            ]
          },
          "metadata": {
            "tags": [],
            "needs_background": "light"
          }
        },
        {
          "output_type": "display_data",
          "data": {
            "text/plain": [
              "<Figure size 432x288 with 0 Axes>"
            ]
          },
          "metadata": {
            "tags": []
          }
        }
      ]
    }
  ]
}