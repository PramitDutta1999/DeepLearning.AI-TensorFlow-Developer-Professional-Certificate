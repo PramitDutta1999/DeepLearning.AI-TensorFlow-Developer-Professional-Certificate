{
  "nbformat": 4,
  "nbformat_minor": 0,
  "metadata": {
    "accelerator": "GPU",
    "colab": {
      "name": "Course 2 - Part 4 - Lesson 4 - Notebook.ipynb",
      "provenance": [],
      "collapsed_sections": [],
      "toc_visible": true
    },
    "kernelspec": {
      "display_name": "Python 3",
      "name": "python3"
    }
  },
  "cells": [
    {
      "cell_type": "markdown",
      "metadata": {
        "colab_type": "text",
        "id": "rX8mhOLljYeM"
      },
      "source": [
        "##### Copyright 2019 The TensorFlow Authors."
      ]
    },
    {
      "cell_type": "code",
      "metadata": {
        "cellView": "form",
        "colab_type": "code",
        "id": "BZSlp3DAjdYf",
        "colab": {}
      },
      "source": [
        "#@title Licensed under the Apache License, Version 2.0 (the \"License\");\n",
        "# you may not use this file except in compliance with the License.\n",
        "# You may obtain a copy of the License at\n",
        "#\n",
        "# https://www.apache.org/licenses/LICENSE-2.0\n",
        "#\n",
        "# Unless required by applicable law or agreed to in writing, software\n",
        "# distributed under the License is distributed on an \"AS IS\" BASIS,\n",
        "# WITHOUT WARRANTIES OR CONDITIONS OF ANY KIND, either express or implied.\n",
        "# See the License for the specific language governing permissions and\n",
        "# limitations under the License."
      ],
      "execution_count": 1,
      "outputs": []
    },
    {
      "cell_type": "code",
      "metadata": {
        "colab_type": "code",
        "id": "RXZT2UsyIVe_",
        "colab": {
          "base_uri": "https://localhost:8080/",
          "height": 391
        },
        "outputId": "be86501f-27c4-4e1d-d6b1-7bb194fd1223"
      },
      "source": [
        "!wget --no-check-certificate \\\n",
        "    https://storage.googleapis.com/laurencemoroney-blog.appspot.com/horse-or-human.zip \\\n",
        "    -O /tmp/horse-or-human.zip\n",
        "\n",
        "!wget --no-check-certificate \\\n",
        "    https://storage.googleapis.com/laurencemoroney-blog.appspot.com/validation-horse-or-human.zip \\\n",
        "    -O /tmp/validation-horse-or-human.zip\n",
        "  \n",
        "import os\n",
        "import zipfile\n",
        "\n",
        "local_zip = '/tmp/horse-or-human.zip'\n",
        "zip_ref = zipfile.ZipFile(local_zip, 'r')\n",
        "zip_ref.extractall('/tmp/horse-or-human')\n",
        "local_zip = '/tmp/validation-horse-or-human.zip'\n",
        "zip_ref = zipfile.ZipFile(local_zip, 'r')\n",
        "zip_ref.extractall('/tmp/validation-horse-or-human')\n",
        "zip_ref.close()\n",
        "# Directory with our training horse pictures\n",
        "train_horse_dir = os.path.join('/tmp/horse-or-human/horses')\n",
        "\n",
        "# Directory with our training human pictures\n",
        "train_human_dir = os.path.join('/tmp/horse-or-human/humans')\n",
        "\n",
        "# Directory with our training horse pictures\n",
        "validation_horse_dir = os.path.join('/tmp/validation-horse-or-human/horses')\n",
        "\n",
        "# Directory with our training human pictures\n",
        "validation_human_dir = os.path.join('/tmp/validation-horse-or-human/humans')"
      ],
      "execution_count": 2,
      "outputs": [
        {
          "output_type": "stream",
          "text": [
            "--2020-08-26 14:47:38--  https://storage.googleapis.com/laurencemoroney-blog.appspot.com/horse-or-human.zip\n",
            "Resolving storage.googleapis.com (storage.googleapis.com)... 74.125.142.128, 74.125.195.128, 74.125.20.128, ...\n",
            "Connecting to storage.googleapis.com (storage.googleapis.com)|74.125.142.128|:443... connected.\n",
            "HTTP request sent, awaiting response... 200 OK\n",
            "Length: 149574867 (143M) [application/zip]\n",
            "Saving to: ‘/tmp/horse-or-human.zip’\n",
            "\n",
            "/tmp/horse-or-human 100%[===================>] 142.65M  92.2MB/s    in 1.5s    \n",
            "\n",
            "2020-08-26 14:47:40 (92.2 MB/s) - ‘/tmp/horse-or-human.zip’ saved [149574867/149574867]\n",
            "\n",
            "--2020-08-26 14:47:40--  https://storage.googleapis.com/laurencemoroney-blog.appspot.com/validation-horse-or-human.zip\n",
            "Resolving storage.googleapis.com (storage.googleapis.com)... 74.125.142.128, 74.125.195.128, 173.194.202.128, ...\n",
            "Connecting to storage.googleapis.com (storage.googleapis.com)|74.125.142.128|:443... connected.\n",
            "HTTP request sent, awaiting response... 200 OK\n",
            "Length: 11480187 (11M) [application/zip]\n",
            "Saving to: ‘/tmp/validation-horse-or-human.zip’\n",
            "\n",
            "/tmp/validation-hor 100%[===================>]  10.95M  --.-KB/s    in 0.07s   \n",
            "\n",
            "2020-08-26 14:47:40 (158 MB/s) - ‘/tmp/validation-horse-or-human.zip’ saved [11480187/11480187]\n",
            "\n"
          ],
          "name": "stdout"
        }
      ]
    },
    {
      "cell_type": "markdown",
      "metadata": {
        "colab_type": "text",
        "id": "5oqBkNBJmtUv"
      },
      "source": [
        "## Building a Small Model from Scratch\n",
        "\n",
        "But before we continue, let's start defining the model:\n",
        "\n",
        "Step 1 will be to import tensorflow."
      ]
    },
    {
      "cell_type": "code",
      "metadata": {
        "colab_type": "code",
        "id": "qvfZg3LQbD-5",
        "colab": {}
      },
      "source": [
        "import tensorflow as tf"
      ],
      "execution_count": 3,
      "outputs": []
    },
    {
      "cell_type": "markdown",
      "metadata": {
        "colab_type": "text",
        "id": "BnhYCP4tdqjC"
      },
      "source": [
        "We then add convolutional layers as in the previous example, and flatten the final result to feed into the densely connected layers."
      ]
    },
    {
      "cell_type": "markdown",
      "metadata": {
        "colab_type": "text",
        "id": "gokG5HKpdtzm"
      },
      "source": [
        "Finally we add the densely connected layers. \n",
        "\n",
        "Note that because we are facing a two-class classification problem, i.e. a *binary classification problem*, we will end our network with a [*sigmoid* activation](https://wikipedia.org/wiki/Sigmoid_function), so that the output of our network will be a single scalar between 0 and 1, encoding the probability that the current image is class 1 (as opposed to class 0)."
      ]
    },
    {
      "cell_type": "code",
      "metadata": {
        "colab_type": "code",
        "id": "PixZ2s5QbYQ3",
        "colab": {}
      },
      "source": [
        "model = tf.keras.models.Sequential([\n",
        "    # Note the input shape is the desired size of the image 300x300 with 3 bytes color\n",
        "    # This is the first convolution\n",
        "    tf.keras.layers.Conv2D(16, (3,3), activation='relu', input_shape=(300, 300, 3)),\n",
        "    tf.keras.layers.MaxPooling2D(2, 2),\n",
        "    # The second convolution\n",
        "    tf.keras.layers.Conv2D(32, (3,3), activation='relu'),\n",
        "    tf.keras.layers.MaxPooling2D(2,2),\n",
        "    # The third convolution\n",
        "    tf.keras.layers.Conv2D(64, (3,3), activation='relu'),\n",
        "    tf.keras.layers.MaxPooling2D(2,2),\n",
        "    # The fourth convolution\n",
        "    tf.keras.layers.Conv2D(64, (3,3), activation='relu'),\n",
        "    tf.keras.layers.MaxPooling2D(2,2),\n",
        "    # The fifth convolution\n",
        "    tf.keras.layers.Conv2D(64, (3,3), activation='relu'),\n",
        "    tf.keras.layers.MaxPooling2D(2,2),\n",
        "    # Flatten the results to feed into a DNN\n",
        "    tf.keras.layers.Flatten(),\n",
        "    # 512 neuron hidden layer\n",
        "    tf.keras.layers.Dense(512, activation='relu'),\n",
        "    # Only 1 output neuron. It will contain a value from 0-1 where 0 for 1 class ('horses') and 1 for the other ('humans')\n",
        "    tf.keras.layers.Dense(1, activation='sigmoid')\n",
        "])"
      ],
      "execution_count": 4,
      "outputs": []
    },
    {
      "cell_type": "code",
      "metadata": {
        "colab_type": "code",
        "id": "8DHWhFP_uhq3",
        "colab": {}
      },
      "source": [
        "from tensorflow.keras.optimizers import RMSprop\n",
        "\n",
        "model.compile(loss='binary_crossentropy',\n",
        "              optimizer=RMSprop(lr=1e-4),\n",
        "              metrics=['accuracy'])"
      ],
      "execution_count": 5,
      "outputs": []
    },
    {
      "cell_type": "code",
      "metadata": {
        "colab_type": "code",
        "id": "ClebU9NJg99G",
        "colab": {
          "base_uri": "https://localhost:8080/",
          "height": 51
        },
        "outputId": "ed15a5a0-76a7-4402-f88f-3072afd8950c"
      },
      "source": [
        "from tensorflow.keras.preprocessing.image import ImageDataGenerator\n",
        "\n",
        "# All images will be rescaled by 1./255\n",
        "train_datagen = ImageDataGenerator(\n",
        "      rescale=1./255,\n",
        "      rotation_range=40,\n",
        "      width_shift_range=0.2,\n",
        "      height_shift_range=0.2,\n",
        "      shear_range=0.2,\n",
        "      zoom_range=0.2,\n",
        "      horizontal_flip=True,\n",
        "      fill_mode='nearest')\n",
        "\n",
        "validation_datagen = ImageDataGenerator(rescale=1/255)\n",
        "\n",
        "# Flow training images in batches of 128 using train_datagen generator\n",
        "train_generator = train_datagen.flow_from_directory(\n",
        "        '/tmp/horse-or-human/',  # This is the source directory for training images\n",
        "        target_size=(300, 300),  # All images will be resized to 150x150\n",
        "        batch_size=128,\n",
        "        # Since we use binary_crossentropy loss, we need binary labels\n",
        "        class_mode='binary')\n",
        "\n",
        "# Flow training images in batches of 128 using train_datagen generator\n",
        "validation_generator = validation_datagen.flow_from_directory(\n",
        "        '/tmp/validation-horse-or-human/',  # This is the source directory for training images\n",
        "        target_size=(300, 300),  # All images will be resized to 150x150\n",
        "        batch_size=32,\n",
        "        # Since we use binary_crossentropy loss, we need binary labels\n",
        "        class_mode='binary')"
      ],
      "execution_count": 6,
      "outputs": [
        {
          "output_type": "stream",
          "text": [
            "Found 1027 images belonging to 2 classes.\n",
            "Found 256 images belonging to 2 classes.\n"
          ],
          "name": "stdout"
        }
      ]
    },
    {
      "cell_type": "code",
      "metadata": {
        "colab_type": "code",
        "id": "Fb1_lgobv81m",
        "colab": {
          "base_uri": "https://localhost:8080/",
          "height": 1000
        },
        "outputId": "c36b4904-b0de-44b7-dd04-a5ed27d919a6"
      },
      "source": [
        "history = model.fit(\n",
        "      train_generator,\n",
        "      steps_per_epoch=8,  \n",
        "      epochs=100,\n",
        "      verbose=1,\n",
        "      validation_data = validation_generator,\n",
        "      validation_steps=8)"
      ],
      "execution_count": 7,
      "outputs": [
        {
          "output_type": "stream",
          "text": [
            "Epoch 1/100\n",
            "2/8 [======>.......................] - ETA: 0s - loss: 0.6972 - accuracy: 0.5156WARNING:tensorflow:Callbacks method `on_train_batch_end` is slow compared to the batch time (batch time: 0.0638s vs `on_train_batch_end` time: 0.1053s). Check your callbacks.\n",
            "8/8 [==============================] - 18s 2s/step - loss: 0.6867 - accuracy: 0.5239 - val_loss: 0.6677 - val_accuracy: 0.5000\n",
            "Epoch 2/100\n",
            "8/8 [==============================] - 21s 3s/step - loss: 0.6741 - accuracy: 0.5295 - val_loss: 0.7229 - val_accuracy: 0.5000\n",
            "Epoch 3/100\n",
            "8/8 [==============================] - 21s 3s/step - loss: 0.6653 - accuracy: 0.5662 - val_loss: 0.6115 - val_accuracy: 0.6133\n",
            "Epoch 4/100\n",
            "8/8 [==============================] - 24s 3s/step - loss: 0.6239 - accuracy: 0.6774 - val_loss: 0.5829 - val_accuracy: 0.6289\n",
            "Epoch 5/100\n",
            "8/8 [==============================] - 21s 3s/step - loss: 0.5991 - accuracy: 0.7230 - val_loss: 0.8916 - val_accuracy: 0.5000\n",
            "Epoch 6/100\n",
            "8/8 [==============================] - 21s 3s/step - loss: 0.6026 - accuracy: 0.6752 - val_loss: 0.6108 - val_accuracy: 0.5859\n",
            "Epoch 7/100\n",
            "8/8 [==============================] - 24s 3s/step - loss: 0.5523 - accuracy: 0.7539 - val_loss: 0.5360 - val_accuracy: 0.6914\n",
            "Epoch 8/100\n",
            "8/8 [==============================] - 21s 3s/step - loss: 0.5330 - accuracy: 0.7519 - val_loss: 0.6669 - val_accuracy: 0.5938\n",
            "Epoch 9/100\n",
            "8/8 [==============================] - 21s 3s/step - loss: 0.5498 - accuracy: 0.7208 - val_loss: 0.6882 - val_accuracy: 0.6016\n",
            "Epoch 10/100\n",
            "8/8 [==============================] - 21s 3s/step - loss: 0.4959 - accuracy: 0.7697 - val_loss: 1.2060 - val_accuracy: 0.5156\n",
            "Epoch 11/100\n",
            "8/8 [==============================] - 21s 3s/step - loss: 0.5192 - accuracy: 0.7297 - val_loss: 0.9735 - val_accuracy: 0.5469\n",
            "Epoch 12/100\n",
            "8/8 [==============================] - 21s 3s/step - loss: 0.4994 - accuracy: 0.7464 - val_loss: 0.9005 - val_accuracy: 0.5977\n",
            "Epoch 13/100\n",
            "8/8 [==============================] - 21s 3s/step - loss: 0.5143 - accuracy: 0.7475 - val_loss: 0.8839 - val_accuracy: 0.6055\n",
            "Epoch 14/100\n",
            "8/8 [==============================] - 21s 3s/step - loss: 0.4681 - accuracy: 0.7720 - val_loss: 1.0308 - val_accuracy: 0.5977\n",
            "Epoch 15/100\n",
            "8/8 [==============================] - 21s 3s/step - loss: 0.4692 - accuracy: 0.7775 - val_loss: 1.0219 - val_accuracy: 0.6133\n",
            "Epoch 16/100\n",
            "8/8 [==============================] - 24s 3s/step - loss: 0.4427 - accuracy: 0.8018 - val_loss: 1.1572 - val_accuracy: 0.5938\n",
            "Epoch 17/100\n",
            "8/8 [==============================] - 21s 3s/step - loss: 0.4358 - accuracy: 0.7853 - val_loss: 1.3432 - val_accuracy: 0.5781\n",
            "Epoch 18/100\n",
            "8/8 [==============================] - 21s 3s/step - loss: 0.4807 - accuracy: 0.7720 - val_loss: 0.9285 - val_accuracy: 0.6602\n",
            "Epoch 19/100\n",
            "8/8 [==============================] - 24s 3s/step - loss: 0.4613 - accuracy: 0.7798 - val_loss: 1.0404 - val_accuracy: 0.6328\n",
            "Epoch 20/100\n",
            "8/8 [==============================] - 21s 3s/step - loss: 0.3825 - accuracy: 0.8242 - val_loss: 1.3891 - val_accuracy: 0.6055\n",
            "Epoch 21/100\n",
            "8/8 [==============================] - 21s 3s/step - loss: 0.4926 - accuracy: 0.7542 - val_loss: 1.5134 - val_accuracy: 0.5508\n",
            "Epoch 22/100\n",
            "8/8 [==============================] - 23s 3s/step - loss: 0.3979 - accuracy: 0.8125 - val_loss: 1.2113 - val_accuracy: 0.6211\n",
            "Epoch 23/100\n",
            "8/8 [==============================] - 21s 3s/step - loss: 0.4312 - accuracy: 0.7931 - val_loss: 1.2787 - val_accuracy: 0.6289\n",
            "Epoch 24/100\n",
            "8/8 [==============================] - 24s 3s/step - loss: 0.3759 - accuracy: 0.8387 - val_loss: 1.1894 - val_accuracy: 0.6367\n",
            "Epoch 25/100\n",
            "8/8 [==============================] - 21s 3s/step - loss: 0.3645 - accuracy: 0.8420 - val_loss: 1.5205 - val_accuracy: 0.5742\n",
            "Epoch 26/100\n",
            "8/8 [==============================] - 21s 3s/step - loss: 0.3453 - accuracy: 0.8565 - val_loss: 0.7554 - val_accuracy: 0.7578\n",
            "Epoch 27/100\n",
            "8/8 [==============================] - 21s 3s/step - loss: 0.4230 - accuracy: 0.7998 - val_loss: 1.2915 - val_accuracy: 0.6328\n",
            "Epoch 28/100\n",
            "8/8 [==============================] - 21s 3s/step - loss: 0.3722 - accuracy: 0.8398 - val_loss: 1.5837 - val_accuracy: 0.5859\n",
            "Epoch 29/100\n",
            "8/8 [==============================] - 21s 3s/step - loss: 0.3539 - accuracy: 0.8298 - val_loss: 1.8510 - val_accuracy: 0.5625\n",
            "Epoch 30/100\n",
            "8/8 [==============================] - 24s 3s/step - loss: 0.3307 - accuracy: 0.8565 - val_loss: 1.3192 - val_accuracy: 0.6562\n",
            "Epoch 31/100\n",
            "8/8 [==============================] - 24s 3s/step - loss: 0.3709 - accuracy: 0.8487 - val_loss: 1.1668 - val_accuracy: 0.6719\n",
            "Epoch 32/100\n",
            "8/8 [==============================] - 21s 3s/step - loss: 0.3513 - accuracy: 0.8521 - val_loss: 1.9415 - val_accuracy: 0.5586\n",
            "Epoch 33/100\n",
            "8/8 [==============================] - 24s 3s/step - loss: 0.3246 - accuracy: 0.8598 - val_loss: 1.3261 - val_accuracy: 0.6602\n",
            "Epoch 34/100\n",
            "8/8 [==============================] - 21s 3s/step - loss: 0.3145 - accuracy: 0.8699 - val_loss: 2.4461 - val_accuracy: 0.5312\n",
            "Epoch 35/100\n",
            "8/8 [==============================] - 21s 3s/step - loss: 0.3357 - accuracy: 0.8487 - val_loss: 1.2703 - val_accuracy: 0.6719\n",
            "Epoch 36/100\n",
            "8/8 [==============================] - 21s 3s/step - loss: 0.3005 - accuracy: 0.8732 - val_loss: 1.8216 - val_accuracy: 0.5977\n",
            "Epoch 37/100\n",
            "8/8 [==============================] - 21s 3s/step - loss: 0.3447 - accuracy: 0.8509 - val_loss: 1.5627 - val_accuracy: 0.6133\n",
            "Epoch 38/100\n",
            "8/8 [==============================] - 21s 3s/step - loss: 0.2910 - accuracy: 0.8699 - val_loss: 2.1020 - val_accuracy: 0.5664\n",
            "Epoch 39/100\n",
            "8/8 [==============================] - 21s 3s/step - loss: 0.2658 - accuracy: 0.8921 - val_loss: 2.8253 - val_accuracy: 0.5273\n",
            "Epoch 40/100\n",
            "8/8 [==============================] - 21s 3s/step - loss: 0.3030 - accuracy: 0.8676 - val_loss: 3.0902 - val_accuracy: 0.5234\n",
            "Epoch 41/100\n",
            "8/8 [==============================] - 21s 3s/step - loss: 0.3023 - accuracy: 0.8643 - val_loss: 1.8939 - val_accuracy: 0.6133\n",
            "Epoch 42/100\n",
            "8/8 [==============================] - 21s 3s/step - loss: 0.2650 - accuracy: 0.8888 - val_loss: 2.0972 - val_accuracy: 0.6016\n",
            "Epoch 43/100\n",
            "8/8 [==============================] - 21s 3s/step - loss: 0.2880 - accuracy: 0.8854 - val_loss: 1.0458 - val_accuracy: 0.7227\n",
            "Epoch 44/100\n",
            "8/8 [==============================] - 21s 3s/step - loss: 0.2785 - accuracy: 0.8788 - val_loss: 1.9447 - val_accuracy: 0.6250\n",
            "Epoch 45/100\n",
            "8/8 [==============================] - 21s 3s/step - loss: 0.3084 - accuracy: 0.8621 - val_loss: 2.5398 - val_accuracy: 0.5508\n",
            "Epoch 46/100\n",
            "8/8 [==============================] - 21s 3s/step - loss: 0.2438 - accuracy: 0.9032 - val_loss: 2.4928 - val_accuracy: 0.5820\n",
            "Epoch 47/100\n",
            "8/8 [==============================] - 21s 3s/step - loss: 0.3364 - accuracy: 0.8743 - val_loss: 2.8471 - val_accuracy: 0.5625\n",
            "Epoch 48/100\n",
            "8/8 [==============================] - 21s 3s/step - loss: 0.2784 - accuracy: 0.8799 - val_loss: 2.4990 - val_accuracy: 0.5859\n",
            "Epoch 49/100\n",
            "8/8 [==============================] - 21s 3s/step - loss: 0.2105 - accuracy: 0.9132 - val_loss: 3.3618 - val_accuracy: 0.5312\n",
            "Epoch 50/100\n",
            "8/8 [==============================] - 21s 3s/step - loss: 0.2605 - accuracy: 0.8888 - val_loss: 2.0794 - val_accuracy: 0.6250\n",
            "Epoch 51/100\n",
            "8/8 [==============================] - 21s 3s/step - loss: 0.1929 - accuracy: 0.9344 - val_loss: 5.5040 - val_accuracy: 0.5000\n",
            "Epoch 52/100\n",
            "8/8 [==============================] - 21s 3s/step - loss: 0.3464 - accuracy: 0.8776 - val_loss: 2.5461 - val_accuracy: 0.5859\n",
            "Epoch 53/100\n",
            "8/8 [==============================] - 24s 3s/step - loss: 0.2077 - accuracy: 0.9310 - val_loss: 2.1306 - val_accuracy: 0.6406\n",
            "Epoch 54/100\n",
            "8/8 [==============================] - 21s 3s/step - loss: 0.2660 - accuracy: 0.8954 - val_loss: 2.1691 - val_accuracy: 0.6250\n",
            "Epoch 55/100\n",
            "8/8 [==============================] - 23s 3s/step - loss: 0.2256 - accuracy: 0.9102 - val_loss: 3.2604 - val_accuracy: 0.5312\n",
            "Epoch 56/100\n",
            "8/8 [==============================] - 21s 3s/step - loss: 0.2581 - accuracy: 0.8988 - val_loss: 2.0653 - val_accuracy: 0.6484\n",
            "Epoch 57/100\n",
            "8/8 [==============================] - 21s 3s/step - loss: 0.2127 - accuracy: 0.9166 - val_loss: 3.2120 - val_accuracy: 0.5508\n",
            "Epoch 58/100\n",
            "8/8 [==============================] - 21s 3s/step - loss: 0.2512 - accuracy: 0.9032 - val_loss: 0.7811 - val_accuracy: 0.7930\n",
            "Epoch 59/100\n",
            "8/8 [==============================] - 21s 3s/step - loss: 0.2710 - accuracy: 0.8832 - val_loss: 2.4660 - val_accuracy: 0.6211\n",
            "Epoch 60/100\n",
            "8/8 [==============================] - 21s 3s/step - loss: 0.1884 - accuracy: 0.9221 - val_loss: 0.8205 - val_accuracy: 0.7891\n",
            "Epoch 61/100\n",
            "8/8 [==============================] - 21s 3s/step - loss: 0.2321 - accuracy: 0.8977 - val_loss: 2.8899 - val_accuracy: 0.5859\n",
            "Epoch 62/100\n",
            "8/8 [==============================] - 21s 3s/step - loss: 0.1734 - accuracy: 0.9366 - val_loss: 1.5686 - val_accuracy: 0.7070\n",
            "Epoch 63/100\n",
            "8/8 [==============================] - 21s 3s/step - loss: 0.2734 - accuracy: 0.8765 - val_loss: 2.5018 - val_accuracy: 0.6211\n",
            "Epoch 64/100\n",
            "8/8 [==============================] - 23s 3s/step - loss: 0.1838 - accuracy: 0.9277 - val_loss: 2.5156 - val_accuracy: 0.6328\n",
            "Epoch 65/100\n",
            "8/8 [==============================] - 21s 3s/step - loss: 0.2646 - accuracy: 0.8754 - val_loss: 2.9372 - val_accuracy: 0.5859\n",
            "Epoch 66/100\n",
            "8/8 [==============================] - 21s 3s/step - loss: 0.1578 - accuracy: 0.9355 - val_loss: 0.4892 - val_accuracy: 0.8711\n",
            "Epoch 67/100\n",
            "8/8 [==============================] - 23s 3s/step - loss: 0.3221 - accuracy: 0.8936 - val_loss: 2.6490 - val_accuracy: 0.6172\n",
            "Epoch 68/100\n",
            "8/8 [==============================] - 23s 3s/step - loss: 0.1564 - accuracy: 0.9443 - val_loss: 3.2170 - val_accuracy: 0.5898\n",
            "Epoch 69/100\n",
            "8/8 [==============================] - 21s 3s/step - loss: 0.2418 - accuracy: 0.8888 - val_loss: 1.6642 - val_accuracy: 0.6953\n",
            "Epoch 70/100\n",
            "8/8 [==============================] - 21s 3s/step - loss: 0.1924 - accuracy: 0.9232 - val_loss: 3.6547 - val_accuracy: 0.5625\n",
            "Epoch 71/100\n",
            "8/8 [==============================] - 24s 3s/step - loss: 0.2319 - accuracy: 0.9032 - val_loss: 2.8397 - val_accuracy: 0.6055\n",
            "Epoch 72/100\n",
            "8/8 [==============================] - 21s 3s/step - loss: 0.2084 - accuracy: 0.9177 - val_loss: 4.4761 - val_accuracy: 0.5195\n",
            "Epoch 73/100\n",
            "8/8 [==============================] - 21s 3s/step - loss: 0.1825 - accuracy: 0.9288 - val_loss: 4.0594 - val_accuracy: 0.5195\n",
            "Epoch 74/100\n",
            "8/8 [==============================] - 24s 3s/step - loss: 0.1715 - accuracy: 0.9399 - val_loss: 3.6587 - val_accuracy: 0.5430\n",
            "Epoch 75/100\n",
            "8/8 [==============================] - 21s 3s/step - loss: 0.2048 - accuracy: 0.9277 - val_loss: 3.1579 - val_accuracy: 0.5938\n",
            "Epoch 76/100\n",
            "8/8 [==============================] - 23s 3s/step - loss: 0.1677 - accuracy: 0.9346 - val_loss: 2.6614 - val_accuracy: 0.6289\n",
            "Epoch 77/100\n",
            "8/8 [==============================] - 21s 3s/step - loss: 0.2562 - accuracy: 0.9043 - val_loss: 2.9778 - val_accuracy: 0.6055\n",
            "Epoch 78/100\n",
            "8/8 [==============================] - 21s 3s/step - loss: 0.1742 - accuracy: 0.9344 - val_loss: 3.3871 - val_accuracy: 0.5820\n",
            "Epoch 79/100\n",
            "8/8 [==============================] - 21s 3s/step - loss: 0.1373 - accuracy: 0.9522 - val_loss: 4.3709 - val_accuracy: 0.5391\n",
            "Epoch 80/100\n",
            "8/8 [==============================] - 23s 3s/step - loss: 0.1933 - accuracy: 0.9229 - val_loss: 4.0889 - val_accuracy: 0.5391\n",
            "Epoch 81/100\n",
            "8/8 [==============================] - 21s 3s/step - loss: 0.2219 - accuracy: 0.9055 - val_loss: 2.5501 - val_accuracy: 0.6406\n",
            "Epoch 82/100\n",
            "8/8 [==============================] - 23s 3s/step - loss: 0.1534 - accuracy: 0.9414 - val_loss: 2.8759 - val_accuracy: 0.6328\n",
            "Epoch 83/100\n",
            "8/8 [==============================] - 21s 3s/step - loss: 0.1411 - accuracy: 0.9444 - val_loss: 4.9380 - val_accuracy: 0.5234\n",
            "Epoch 84/100\n",
            "8/8 [==============================] - 23s 3s/step - loss: 0.2191 - accuracy: 0.9092 - val_loss: 2.8934 - val_accuracy: 0.6406\n",
            "Epoch 85/100\n",
            "8/8 [==============================] - 23s 3s/step - loss: 0.1639 - accuracy: 0.9355 - val_loss: 3.1905 - val_accuracy: 0.6172\n",
            "Epoch 86/100\n",
            "8/8 [==============================] - 24s 3s/step - loss: 0.1707 - accuracy: 0.9266 - val_loss: 2.7546 - val_accuracy: 0.6406\n",
            "Epoch 87/100\n",
            "8/8 [==============================] - 21s 3s/step - loss: 0.1450 - accuracy: 0.9444 - val_loss: 1.9001 - val_accuracy: 0.7070\n",
            "Epoch 88/100\n",
            "8/8 [==============================] - 21s 3s/step - loss: 0.1840 - accuracy: 0.9244 - val_loss: 4.0511 - val_accuracy: 0.5820\n",
            "Epoch 89/100\n",
            "8/8 [==============================] - 23s 3s/step - loss: 0.1808 - accuracy: 0.9258 - val_loss: 3.9874 - val_accuracy: 0.5820\n",
            "Epoch 90/100\n",
            "8/8 [==============================] - 21s 3s/step - loss: 0.1588 - accuracy: 0.9388 - val_loss: 2.4156 - val_accuracy: 0.6523\n",
            "Epoch 91/100\n",
            "8/8 [==============================] - 21s 3s/step - loss: 0.1807 - accuracy: 0.9310 - val_loss: 2.9884 - val_accuracy: 0.6172\n",
            "Epoch 92/100\n",
            "8/8 [==============================] - 21s 3s/step - loss: 0.1239 - accuracy: 0.9555 - val_loss: 3.2906 - val_accuracy: 0.6055\n",
            "Epoch 93/100\n",
            "8/8 [==============================] - 21s 3s/step - loss: 0.2349 - accuracy: 0.9143 - val_loss: 3.3685 - val_accuracy: 0.5938\n",
            "Epoch 94/100\n",
            "8/8 [==============================] - 21s 3s/step - loss: 0.1346 - accuracy: 0.9433 - val_loss: 3.5748 - val_accuracy: 0.5859\n",
            "Epoch 95/100\n",
            "8/8 [==============================] - 21s 3s/step - loss: 0.1594 - accuracy: 0.9477 - val_loss: 2.9001 - val_accuracy: 0.6250\n",
            "Epoch 96/100\n",
            "8/8 [==============================] - 21s 3s/step - loss: 0.1348 - accuracy: 0.9444 - val_loss: 2.3872 - val_accuracy: 0.6641\n",
            "Epoch 97/100\n",
            "8/8 [==============================] - 21s 3s/step - loss: 0.1418 - accuracy: 0.9366 - val_loss: 4.2188 - val_accuracy: 0.5703\n",
            "Epoch 98/100\n",
            "8/8 [==============================] - 23s 3s/step - loss: 0.1812 - accuracy: 0.9238 - val_loss: 3.3017 - val_accuracy: 0.5977\n",
            "Epoch 99/100\n",
            "8/8 [==============================] - 20s 3s/step - loss: 0.1251 - accuracy: 0.9522 - val_loss: 3.8789 - val_accuracy: 0.5898\n",
            "Epoch 100/100\n",
            "8/8 [==============================] - 21s 3s/step - loss: 0.1919 - accuracy: 0.9255 - val_loss: 2.5322 - val_accuracy: 0.6406\n"
          ],
          "name": "stdout"
        }
      ]
    },
    {
      "cell_type": "code",
      "metadata": {
        "colab_type": "code",
        "id": "7zNPRWOVJdOH",
        "colab": {
          "base_uri": "https://localhost:8080/",
          "height": 545
        },
        "outputId": "471d9f5c-fbb9-4be9-d55c-41b18ad0ca11"
      },
      "source": [
        "import matplotlib.pyplot as plt\n",
        "acc = history.history['accuracy']\n",
        "val_acc = history.history['val_accuracy']\n",
        "loss = history.history['loss']\n",
        "val_loss = history.history['val_loss']\n",
        "\n",
        "epochs = range(len(acc))\n",
        "\n",
        "plt.plot(epochs, acc, 'r', label='Training accuracy')\n",
        "plt.plot(epochs, val_acc, 'b', label='Validation accuracy')\n",
        "plt.title('Training and validation accuracy')\n",
        "\n",
        "plt.figure()\n",
        "\n",
        "plt.plot(epochs, loss, 'r', label='Training Loss')\n",
        "plt.plot(epochs, val_loss, 'b', label='Validation Loss')\n",
        "plt.title('Training and validation loss')\n",
        "plt.legend()\n",
        "\n",
        "plt.show()"
      ],
      "execution_count": 8,
      "outputs": [
        {
          "output_type": "display_data",
          "data": {
            "image/png": "[encoded data removed]",
            "text/plain": [
              "<Figure size 432x288 with 1 Axes>"
            ]
          },
          "metadata": {
            "tags": [],
            "needs_background": "light"
          }
        },
        {
          "output_type": "display_data",
          "data": {
            "image/png": "[encoded data removed]",
            "text/plain": [
              "<Figure size 432x288 with 1 Axes>"
            ]
          },
          "metadata": {
            "tags": [],
            "needs_background": "light"
          }
        }
      ]
    }
  ]
}